{
 "cells": [
  {
   "cell_type": "code",
   "execution_count": null,
   "id": "35e82c8e",
   "metadata": {},
   "outputs": [
    {
     "name": "stderr",
     "output_type": "stream",
     "text": [
      "Map: 100%|██████████| 11606/11606 [00:02<00:00, 4290.68 examples/s]"
     ]
    },
    {
     "name": "stdout",
     "output_type": "stream",
     "text": [
      "{'review': \"sound and mic satisfied. I only ordered the one that was on and I made sure that it clicked again, but the one that came didn't turn on\", 'label': 0}\n"
     ]
    },
    {
     "name": "stderr",
     "output_type": "stream",
     "text": [
      "\n"
     ]
    }
   ],
   "source": [
    "from datasets import load_dataset\n",
    "\n",
    "ds = load_dataset(\"dipawidia/ecommerce-product-reviews-sentiment\", split=\"train\")\n",
    "\n",
    "# sửa schema\n",
    "def rename_and_remove(batch):\n",
    "    batch.pop(\"review\", None)\n",
    "    batch[\"review\"] = batch.pop(\"translate\")  # đổi tên translate -> review\n",
    "    batch[\"label\"] = batch.pop(\"sentimen\")    # đổi tên sentimen -> label\n",
    "                     # xóa review cũ\n",
    "    return batch\n",
    "\n",
    "ds = ds.map(rename_and_remove)\n",
    "\n",
    "print(ds[0])\n",
    "ds.to_json(\"../data/labeled/labeledReview.datasetFix.jsonl\")"
   ]
  },
  {
   "cell_type": "code",
   "execution_count": 13,
   "id": "00121cb3",
   "metadata": {},
   "outputs": [],
   "source": [
    "\n",
    "import pandas as pd\n",
    "df = pd.read_csv(r\"../data\\archive (1)\\Reviews_dataset.csv\")\n",
    "df.rename(columns={\"reviews\":\"review\", \"ratings\":\"rating\"}, inplace=True)\n",
    "df = df.drop(columns=[\"ReviewID\",\"ProductID\",\"UserID\",\"name\",\"category\"])\n",
    "df.to_json(\"../data/labeled/Reviews_dataset.jsonl\", lines=True, orient=\"records\")"
   ]
  },
  {
   "cell_type": "code",
   "execution_count": 1,
   "id": "0416ba6c",
   "metadata": {},
   "outputs": [],
   "source": [
    "import pandas as pd\n",
    "df = pd.read_csv(r\"../data\\archive\\ecommerce-product-reviews-dataset\\ecommerce_product_reviews_dataset.csv\")\n",
    "label_map = {\"Negative\": 0, \"Positive\": 1, \"Neutral\": 2}\n",
    "\n",
    "# Thay cột segment thành cột label số\n",
    "df[\"sentiment\"] = df[\"sentiment\"].map(label_map)\n",
    "df.rename(columns={\"review_text\":\"review\", \"sentiment\":\"label\"}, inplace=True)\n",
    "df = df.drop(columns=['product_id','product_title','category'])\n",
    "df.to_json(\"../data/labeled/ecommerce_product_reviews_dataset.jsonl\", lines=True, orient=\"records\")"
   ]
  }
 ],
 "metadata": {
  "kernelspec": {
   "display_name": "p310",
   "language": "python",
   "name": "python3"
  },
  "language_info": {
   "codemirror_mode": {
    "name": "ipython",
    "version": 3
   },
   "file_extension": ".py",
   "mimetype": "text/x-python",
   "name": "python",
   "nbconvert_exporter": "python",
   "pygments_lexer": "ipython3",
   "version": "3.10.16"
  }
 },
 "nbformat": 4,
 "nbformat_minor": 5
}
