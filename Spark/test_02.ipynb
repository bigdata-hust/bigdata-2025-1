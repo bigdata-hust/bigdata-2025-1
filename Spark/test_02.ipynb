{
 "cells": [
  {
   "cell_type": "code",
   "execution_count": 3,
   "id": "220149ea",
   "metadata": {},
   "outputs": [],
   "source": [
    "import pyspark \n",
    "from pyspark.sql import SparkSession \n",
    "import time\n",
    "from pyspark.sql.functions import *"
   ]
  },
  {
   "cell_type": "code",
   "execution_count": 4,
   "id": "f9ce35e4",
   "metadata": {},
   "outputs": [],
   "source": [
    "spark = SparkSession.builder.config('spark.driver.memory' , '8g').getOrCreate()"
   ]
  },
  {
   "cell_type": "code",
   "execution_count": 5,
   "id": "7a2518f3",
   "metadata": {},
   "outputs": [],
   "source": [
    "def top_stores_by_positive_reviews(business_df, review_df, \n",
    "                                       positive_threshold=4, top_n=10):\n",
    "        \"\"\"\n",
    "        4. Cửa hàng nhận nhiều đánh giá tích cực nhất\n",
    "        \n",
    "        Optimizations:\n",
    "        - Single-pass aggregation with conditional logic\n",
    "        - Repartitioning and caching\n",
    "        - Early filtering\n",
    "        - Broadcast join\n",
    "        \n",
    "        Args:\n",
    "            business_df: DataFrame chứa dữ liệu business\n",
    "            review_df: DataFrame chứa dữ liệu review\n",
    "            positive_threshold: ngưỡng sao tích cực (default: 4)\n",
    "            top_n: số lượng top cửa hàng\n",
    "        \n",
    "        Returns:\n",
    "            DataFrame với top cửa hàng có nhiều review tích cực nhất\n",
    "        \"\"\"\n",
    "        print(f\"\\n{'='*60}\")\n",
    "        print(f\"Analysis 4: Top {top_n} Stores by Positive Reviews (>= {positive_threshold} stars)\")\n",
    "        print(f\"{'='*60}\")\n",
    "        start_time = time.time()\n",
    "        \n",
    "        # Repartition and cache\n",
    "        review_partitioned = review_df \\\n",
    "            .select(\"business_id\", \"review_id\", \"stars\", \"useful\") \\\n",
    "            .repartition(200, \"business_id\") \\\n",
    "            .cache()\n",
    "        \n",
    "        # Single-pass aggregation with conditional logic\n",
    "        review_stats = review_partitioned.groupBy(\"business_id\").agg(\n",
    "            # Count positive reviews\n",
    "            sum(when(col(\"stars\") >= positive_threshold, 1).otherwise(0))\n",
    "                .alias(\"positive_review_count\"),\n",
    "            \n",
    "            # Total review count\n",
    "            count(\"review_id\").alias(\"total_review_count\"),\n",
    "            \n",
    "            # Average stars of positive reviews\n",
    "            avg(when(col(\"stars\") >= positive_threshold, col(\"stars\")))\n",
    "                .alias(\"avg_positive_rating\"),\n",
    "            \n",
    "            # Total useful votes from positive reviews\n",
    "            sum(when(col(\"stars\") >= positive_threshold, col(\"useful\")).otherwise(0))\n",
    "                .alias(\"total_useful_votes\")\n",
    "        )\n",
    "        \n",
    "        # Calculate positive ratio and filter\n",
    "        review_stats_filtered = review_stats \\\n",
    "            .withColumn(\n",
    "                \"positive_ratio\", \n",
    "                col(\"positive_review_count\") / col(\"total_review_count\")\n",
    "            ) \\\n",
    "            .filter(col(\"positive_review_count\") > 0)\n",
    "        \n",
    "        # Get top candidates\n",
    "        top_candidates = review_stats_filtered \\\n",
    "            .orderBy(desc(\"positive_review_count\"), desc(\"positive_ratio\")) \\\n",
    "            .limit(top_n * 3)\n",
    "        \n",
    "        # Broadcast join\n",
    "        result = top_candidates.join(\n",
    "            broadcast(business_df.select(\n",
    "                \"business_id\", \"name\", \"city\", \"state\", \"categories\"\n",
    "            )),\n",
    "            \"business_id\"\n",
    "        ).select(\n",
    "            \"business_id\",\n",
    "            \"name\",\n",
    "            \"city\",\n",
    "            \"state\",\n",
    "            \"categories\",\n",
    "            \"positive_review_count\",\n",
    "            \"total_review_count\",\n",
    "            \"positive_ratio\",\n",
    "            \"avg_positive_rating\",\n",
    "            \"total_useful_votes\"\n",
    "        ).orderBy(\n",
    "            desc(\"positive_review_count\"), \n",
    "            desc(\"positive_ratio\")\n",
    "        ).limit(top_n)\n",
    "        result_count = result.count()\n",
    "        \n",
    "        # Cleanup\n",
    "        review_partitioned.unpersist()\n",
    "        \n",
    "        elapsed = time.time() - start_time\n",
    "        print(f\"✓ Completed in {elapsed:.2f}s - Found {result_count} results\")\n",
    "        \n",
    "        return result"
   ]
  },
  {
   "cell_type": "code",
   "execution_count": 6,
   "id": "6d3db817",
   "metadata": {},
   "outputs": [],
   "source": [
    "review = spark.read.json(r'D:\\VS-workspace\\bigdata-2025-1\\data\\review.json')"
   ]
  },
  {
   "cell_type": "code",
   "execution_count": 7,
   "id": "73a8d9f2",
   "metadata": {},
   "outputs": [],
   "source": [
    "business = spark.read.json(r'D:\\VS-workspace\\bigdata-2025-1\\data\\business.json')"
   ]
  },
  {
   "cell_type": "code",
   "execution_count": 26,
   "id": "a084c7b2",
   "metadata": {},
   "outputs": [],
   "source": [
    "user = spark.read.json(r'D:\\VS-workspace\\bigdata-2025-1\\data\\user.json')"
   ]
  },
  {
   "cell_type": "code",
   "execution_count": 28,
   "id": "dc0f2bc0",
   "metadata": {},
   "outputs": [
    {
     "name": "stdout",
     "output_type": "stream",
     "text": [
      "+-------------+---------------+---------------+----------------+--------------+---------------+---------------+---------------+-----------------+----------------+------------------+-----------------+-----+--------------------+----+--------------------+-----+---------+------------+------+--------------------+-------------------+\n",
      "|average_stars|compliment_cool|compliment_cute|compliment_funny|compliment_hot|compliment_list|compliment_more|compliment_note|compliment_photos|compliment_plain|compliment_profile|compliment_writer| cool|               elite|fans|             friends|funny|     name|review_count|useful|             user_id|      yelping_since|\n",
      "+-------------+---------------+---------------+----------------+--------------+---------------+---------------+---------------+-----------------+----------------+------------------+-----------------+-----+--------------------+----+--------------------+-----+---------+------------+------+--------------------+-------------------+\n",
      "|         3.91|            467|             56|             467|           250|             18|             65|            232|              180|             844|                55|              239| 5994|                2007| 267|NSCy54eWehBJyZdG2...| 1259|   Walker|         585|  7217|qVc8ODYU5SZjKXVBg...|2007-01-25 16:47:26|\n",
      "|         3.74|           3131|            157|            3131|          1145|            251|            264|           1847|             1946|            7054|               184|             1521|27281|2009,2010,2011,20...|3138|ueRPE0CX75ePGMqOF...|13066|   Daniel|        4333| 43091|j14WgRoU_-2ZE1aw1...|2009-01-25 04:35:42|\n",
      "|         3.32|            119|             17|             119|            89|              3|             13|             66|               18|              96|                10|               35| 1003|2009,2010,2011,20...|  52|LuO3Bn4f3rlhyHIaN...| 1010|    Steph|         665|  2086|2WnXYQFK0hXEoTxPt...|2008-07-25 10:41:00|\n",
      "|         4.27|             26|              6|              26|            24|              2|              4|             12|                9|              16|                 1|               10|  299|      2009,2010,2011|  28|enx1vVPnfdNUdPho6...|  330|     Gwen|         224|   512|SZDeASXq7o05mMNLs...|2005-11-29 04:38:33|\n",
      "|         3.54|              0|              0|               0|             1|              0|              1|              1|                0|               1|                 0|                0|    7|                    |   1|PBK4q9KEEBHhFvSXC...|   15|    Karen|          79|    29|hA5lMy-EnncsH4JoR...|2007-01-05 19:40:59|\n",
      "|         3.85|           2543|            361|            2543|          1713|            147|            163|           1212|              323|            5696|               191|              815|11211|2006,2007,2008,20...|1357|xBDpTUbai0DXrvxCe...| 9940|     Jane|        1221| 14953|q_QQ5kBBwlCcbL1s4...|2005-03-14 20:26:35|\n",
      "|         2.75|              0|              0|               0|             0|              0|              0|              0|                0|               1|                 0|                0|    0|                    |   1|HDAQ74AEznP-YsMk1...|    1|      Rob|          12|     6|cxuxXkcihfCbqt5By...|2009-02-24 03:09:06|\n",
      "|         3.73|             12|              0|              12|             4|              0|              7|              8|                0|               6|                 2|                5|  143|                    |  23|y2GyxJF5VQWohxgw_...|  102|     Mike|         358|   399|E9kcWJdJUHuTKfQur...|2008-12-11 22:11:56|\n",
      "|         4.04|              5|              3|               5|             2|              0|              0|              3|                1|               4|                 0|                3|   46|                    |   7|tOQDlz36rI__SOsbL...|   40| Rachelle|          40|   109|lO1iq-f75hnPNZkTy...|2008-12-29 22:40:56|\n",
      "|          3.4|              3|              0|               3|             0|              0|              0|              1|                0|               6|                 0|                0|   23|                    |   4|gy5fWeSv3Gamuq9Ox...|   20|     John|         109|   154|AUi8MPWJ0mLkMfwbu...|2010-01-07 18:32:04|\n",
      "|          4.0|              0|              0|               0|             0|              0|              0|              0|                0|               0|                 0|                0|    1|                    |   1|Vq4Pc81l6MWTnc-h4...|    0|    Chris|           4|     1|iYzhPPqnrjJkg1JHZ...|2010-11-03 18:59:20|\n",
      "|         3.89|             36|              3|              36|            23|              5|              9|             31|                7|              41|                 1|               24|  573| 2009,2010,2011,2012|  31|6tbXpUIU6upoeqWND...|  487|     Ryan|         535|  1130|xoZvMJPDW6Q9pDAXI...|2009-05-27 06:12:10|\n",
      "|         4.51|              0|              0|               0|             4|              0|              0|              1|                0|               5|                 0|                1|   27|                    |   4|zkK6c9BcDyqreU0fq...|    3| Charlene|          37|    63|vVukUtqoLF5BvH_Vt...|2011-01-29 17:18:59|\n",
      "|         3.08|              0|              0|               0|             0|              0|              0|              0|                0|               0|                 0|                0|    0|                    |   0|f0mdrhyxVZ0TsFZD5...|    3|    Kenny|          11|    30|_crIokUeTCHVK_JVO...|2009-10-07 17:23:44|\n",
      "|         4.29|              2|              0|               2|             1|              0|              0|              1|                0|               0|                 0|                0|   13|                    |   1|piejMEdRkGB7-1aL4...|    3|   Teresa|           7|    18|1McG5Rn_UDkmlkZOr...|2009-05-26 16:11:11|\n",
      "|         3.75|            221|             22|             221|           212|             34|             17|             67|               17|             158|                17|               45| 1297|2007,2008,2009,20...|  44|j3MBGSLaXMlhLZNeA...| 1138|   Eugene|         682|  1819|SgiBkhXeqIKl1PlFp...|2006-08-25 16:47:25|\n",
      "|         4.15|              2|              0|               2|             0|              0|              1|              6|                0|               2|                 0|                1|   19|                    |   1|hJiJzw6obCmbGAfwr...|    2| Jennifer|          25|    29|fJZO_skqpnhk1kvom...|2008-07-14 16:01:36|\n",
      "|         3.84|             66|              0|              66|            15|              0|              1|             12|               12|              33|                 0|                1|   29|                    |   9|EPBLDry-ObheloH-N...|   29|  Ronskee|          37|    56|x7YtLnBW2dUnrrpwa...|2010-05-06 00:40:56|\n",
      "|         4.11|            808|             29|             808|          1020|             23|             79|            144|              723|             407|                68|              587| 4149|2010,2011,2012,20...| 131|dLts9bY66tXEFqYG0...| 3714|Catherine|         607|  4573|QF1Kuhs8iwLWANNZx...|2009-04-27 20:25:54|\n",
      "|          3.6|              0|              0|               0|             1|              0|              0|              2|                0|               4|                 0|                1|   44|                    |   4|Ynu2Z2L8Wv2fbTwQ_...|   52|       AJ|         133|   201|VcLRGCG_VbAo8MxOm...|2009-07-11 16:47:38|\n",
      "+-------------+---------------+---------------+----------------+--------------+---------------+---------------+---------------+-----------------+----------------+------------------+-----------------+-----+--------------------+----+--------------------+-----+---------+------------+------+--------------------+-------------------+\n",
      "only showing top 20 rows\n"
     ]
    }
   ],
   "source": [
    "user.show()\n"
   ]
  },
  {
   "cell_type": "code",
   "execution_count": null,
   "id": "7ea0651e",
   "metadata": {},
   "outputs": [],
   "source": []
  },
  {
   "cell_type": "code",
   "execution_count": 8,
   "id": "b8bf16c4",
   "metadata": {},
   "outputs": [],
   "source": [
    "review_partitioned = review \\\n",
    "            .select(\"business_id\", \"review_id\", \"stars\", \"useful\") \\\n",
    "            .repartition(200, \"business_id\") \\\n",
    "            .cache()"
   ]
  },
  {
   "cell_type": "code",
   "execution_count": 9,
   "id": "97e159c4",
   "metadata": {},
   "outputs": [],
   "source": [
    "review_stats = review_partitioned.groupBy(\"business_id\").agg(\n",
    "            # Count positive reviews\n",
    "            sum(when(col(\"stars\") >= 4, 1).otherwise(0))\n",
    "                .alias(\"positive_review_count\"),\n",
    "            \n",
    "            # Total review count\n",
    "            count(\"review_id\").alias(\"total_review_count\"),\n",
    "            \n",
    "            # Average stars of positive reviews\n",
    "            avg(when(col(\"stars\") >= 4, col(\"stars\")))\n",
    "                .alias(\"avg_positive_rating\"),\n",
    "            \n",
    "            # Total useful votes from positive reviews\n",
    "            sum(when(col(\"stars\") >= 4, col(\"useful\")).otherwise(0))\n",
    "                .alias(\"total_useful_votes\")\n",
    "        )"
   ]
  },
  {
   "cell_type": "code",
   "execution_count": 10,
   "id": "19cb6ff1",
   "metadata": {},
   "outputs": [],
   "source": [
    "# Calculate positive ratio and filter\n",
    "review_stats_filtered = review_stats \\\n",
    "    .withColumn(\n",
    "        \"positive_ratio\", \n",
    "        col(\"positive_review_count\") / col(\"total_review_count\")\n",
    "    ) \\\n",
    "    .filter(col(\"positive_review_count\") > 0)"
   ]
  },
  {
   "cell_type": "code",
   "execution_count": 11,
   "id": "e1960987",
   "metadata": {},
   "outputs": [],
   "source": [
    " # Get top candidates\n",
    "top_candidates = review_stats_filtered \\\n",
    "    .orderBy(desc(\"positive_review_count\"), desc(\"positive_ratio\")) \\\n",
    "    .limit(10 * 3)"
   ]
  },
  {
   "cell_type": "code",
   "execution_count": 12,
   "id": "843086c3",
   "metadata": {},
   "outputs": [],
   "source": [
    "result = top_candidates.join(\n",
    "            broadcast(business.select(\n",
    "                \"business_id\", \"name\", \"city\", \"state\", \"categories\"\n",
    "            )),\n",
    "            \"business_id\"\n",
    "        ).select(\n",
    "            \"business_id\",\n",
    "            \"name\",\n",
    "            \"city\",\n",
    "            \"state\",\n",
    "            \"categories\",\n",
    "            \"positive_review_count\",\n",
    "            \"total_review_count\",\n",
    "            \"positive_ratio\",\n",
    "            \"avg_positive_rating\",\n",
    "            \"total_useful_votes\"\n",
    "        ).orderBy(\n",
    "            desc(\"positive_review_count\"), \n",
    "            desc(\"positive_ratio\")\n",
    "        ).limit(10)"
   ]
  },
  {
   "cell_type": "code",
   "execution_count": 13,
   "id": "ecd9383a",
   "metadata": {},
   "outputs": [
    {
     "name": "stdout",
     "output_type": "stream",
     "text": [
      "+--------------------+--------------------+------------+-----+--------------------+---------------------+------------------+------------------+-------------------+------------------+\n",
      "|         business_id|                name|        city|state|          categories|positive_review_count|total_review_count|    positive_ratio|avg_positive_rating|total_useful_votes|\n",
      "+--------------------+--------------------+------------+-----+--------------------+---------------------+------------------+------------------+-------------------+------------------+\n",
      "|_ab50qdWOk0DdB6XO...|   Acme Oyster House| New Orleans|   LA|Live/Raw Food, Se...|                 5982|              7673|0.7796168382640427| 4.6093279839518555|              3414|\n",
      "|ac1AeYqs8Z4_e2X5M...|        Oceana Grill| New Orleans|   LA|Restaurants, Seaf...|                 5865|              7516|0.7803352847259181|  4.684057971014493|              2322|\n",
      "|GXFMD0Z4jEVZBCsbP...|Hattie B’s Hot Ch...|   Nashville|   TN|American (Traditi...|                 5425|              6160|0.8806818181818182|  4.707465437788018|              3341|\n",
      "|ytynqOUb3hjKeJfRj...|Reading Terminal ...|Philadelphia|   PA|Candy Stores, Sho...|                 5380|              5778|0.9311180339217723|  4.746096654275093|              4653|\n",
      "|oBNrLz4EDhiscSlbO...|Ruby Slipper - Ne...| New Orleans|   LA|Restaurants, Amer...|                 4369|              5264|0.8299772036474165|  4.703822384985123|              1673|\n",
      "|_C7QiQQc47AOEv4PE...|  Commander's Palace| New Orleans|   LA|French, Restauran...|                 4008|              4969|0.8066009257395854|  4.772205588822355|              4222|\n",
      "|GBTPC53ZrG1ZBY3DT...|                Luke| New Orleans|   LA|German, Restauran...|                 3726|              4661| 0.799399270542802|  4.634728931830381|              2461|\n",
      "|I_3LMZ_1m2mzR0oLI...|  Pappy's Smokehouse| Saint Louis|   MO|Food, Restaurants...|                 3575|              4093|0.8734424627412656|  4.748251748251748|              2350|\n",
      "|6a4gLLFSgr-Q6CZXD...|              Cochon| New Orleans|   LA|Cajun/Creole, Sea...|                 3567|              4480|0.7962053571428571|  4.656013456686291|              2578|\n",
      "|gTC8IQ_i8zXytWSly...|      Cochon Butcher| New Orleans|   LA|Shopping, Butcher...|                 3538|              3917|0.9032422772529998|  4.717071791972866|              2926|\n",
      "+--------------------+--------------------+------------+-----+--------------------+---------------------+------------------+------------------+-------------------+------------------+\n",
      "\n"
     ]
    }
   ],
   "source": [
    "result.show()"
   ]
  },
  {
   "cell_type": "code",
   "execution_count": 14,
   "id": "db33a030",
   "metadata": {},
   "outputs": [
    {
     "name": "stdout",
     "output_type": "stream",
     "text": [
      "\n",
      "============================================================\n",
      "Analysis 4: Top 10 Stores by Positive Reviews (>= 4 stars)\n",
      "============================================================\n",
      "✓ Completed in 2.41s - Found 10 results\n"
     ]
    }
   ],
   "source": [
    "test = top_stores_by_positive_reviews(business , review ,positive_threshold=4, top_n=10)"
   ]
  },
  {
   "cell_type": "code",
   "execution_count": 15,
   "id": "30520318",
   "metadata": {},
   "outputs": [
    {
     "name": "stdout",
     "output_type": "stream",
     "text": [
      "+--------------------+--------------------+------------+-----+--------------------+---------------------+------------------+------------------+-------------------+------------------+\n",
      "|         business_id|                name|        city|state|          categories|positive_review_count|total_review_count|    positive_ratio|avg_positive_rating|total_useful_votes|\n",
      "+--------------------+--------------------+------------+-----+--------------------+---------------------+------------------+------------------+-------------------+------------------+\n",
      "|_ab50qdWOk0DdB6XO...|   Acme Oyster House| New Orleans|   LA|Live/Raw Food, Se...|                 5982|              7673|0.7796168382640427| 4.6093279839518555|              3414|\n",
      "|ac1AeYqs8Z4_e2X5M...|        Oceana Grill| New Orleans|   LA|Restaurants, Seaf...|                 5865|              7516|0.7803352847259181|  4.684057971014493|              2322|\n",
      "|GXFMD0Z4jEVZBCsbP...|Hattie B’s Hot Ch...|   Nashville|   TN|American (Traditi...|                 5425|              6160|0.8806818181818182|  4.707465437788018|              3341|\n",
      "|ytynqOUb3hjKeJfRj...|Reading Terminal ...|Philadelphia|   PA|Candy Stores, Sho...|                 5380|              5778|0.9311180339217723|  4.746096654275093|              4653|\n",
      "|oBNrLz4EDhiscSlbO...|Ruby Slipper - Ne...| New Orleans|   LA|Restaurants, Amer...|                 4369|              5264|0.8299772036474165|  4.703822384985123|              1673|\n",
      "|_C7QiQQc47AOEv4PE...|  Commander's Palace| New Orleans|   LA|French, Restauran...|                 4008|              4969|0.8066009257395854|  4.772205588822355|              4222|\n",
      "|GBTPC53ZrG1ZBY3DT...|                Luke| New Orleans|   LA|German, Restauran...|                 3726|              4661| 0.799399270542802|  4.634728931830381|              2461|\n",
      "|I_3LMZ_1m2mzR0oLI...|  Pappy's Smokehouse| Saint Louis|   MO|Food, Restaurants...|                 3575|              4093|0.8734424627412656|  4.748251748251748|              2350|\n",
      "|6a4gLLFSgr-Q6CZXD...|              Cochon| New Orleans|   LA|Cajun/Creole, Sea...|                 3567|              4480|0.7962053571428571|  4.656013456686291|              2578|\n",
      "|gTC8IQ_i8zXytWSly...|      Cochon Butcher| New Orleans|   LA|Shopping, Butcher...|                 3538|              3917|0.9032422772529998|  4.717071791972866|              2926|\n",
      "+--------------------+--------------------+------------+-----+--------------------+---------------------+------------------+------------------+-------------------+------------------+\n",
      "\n"
     ]
    }
   ],
   "source": [
    "test.show()"
   ]
  },
  {
   "cell_type": "code",
   "execution_count": 18,
   "id": "8da2fb65",
   "metadata": {},
   "outputs": [],
   "source": [
    "def top_rated_products(business_df, review_df, min_reviews=50, top_n=10):\n",
    "        \"\"\"\n",
    "        3. Sản phẩm (doanh nghiệp) đánh giá tích cực nhất\n",
    "        \n",
    "        Optimizations:\n",
    "        - Partitioning by business_id\n",
    "        - Strategic caching\n",
    "        - Early filtering by min_reviews\n",
    "        - Broadcast join\n",
    "        \n",
    "        Args:\n",
    "            business_df: DataFrame chứa dữ liệu business\n",
    "            review_df: DataFrame chứa dữ liệu review\n",
    "            min_reviews: số lượng review tối thiểu\n",
    "            top_n: số lượng top sản phẩm\n",
    "        \n",
    "        Returns:\n",
    "            DataFrame với top sản phẩm có rating cao nhất\n",
    "        \"\"\"\n",
    "        print(f\"\\n{'='*60}\")\n",
    "        print(f\"Analysis 3: Top {top_n} Rated Products (Min {min_reviews} reviews)\")\n",
    "        print(f\"{'='*60}\")\n",
    "        start_time = time.time()\n",
    "        \n",
    "        # Repartition and cache\n",
    "        review_partitioned = review_df \\\n",
    "            .select(\"business_id\", \"review_id\", \"stars\", \"useful\") \\\n",
    "            .repartition(200, \"business_id\") \\\n",
    "            .cache()\n",
    "        \n",
    "        # Aggregate review stats\n",
    "        business_stats = review_partitioned \\\n",
    "            .filter(col(\"stars\").isNotNull()) \\\n",
    "            .groupBy(\"business_id\") \\\n",
    "            .agg(\n",
    "                count(\"review_id\").alias(\"total_reviews\"),\n",
    "                avg(\"stars\").alias(\"avg_review_stars\"),\n",
    "                sum(\"useful\").alias(\"total_useful\")\n",
    "            )\n",
    "        \n",
    "        # Filter by minimum reviews\n",
    "        qualified = business_stats.filter(col(\"total_reviews\") >= min_reviews)\n",
    "        \n",
    "        # Get top candidates\n",
    "        top_candidates = qualified \\\n",
    "            .orderBy(desc(\"avg_review_stars\"), desc(\"total_reviews\")) \\\n",
    "            .limit(top_n * 5)\n",
    "        \n",
    "        # Broadcast join\n",
    "        result = top_candidates.join(\n",
    "            broadcast(business_df.select(\n",
    "                \"business_id\", \"name\", \"city\", \"state\", \"categories\", \"stars\"\n",
    "            )),\n",
    "            \"business_id\"\n",
    "        ).select(\n",
    "            \"business_id\",\n",
    "            \"name\",\n",
    "            \"city\",\n",
    "            \"state\",\n",
    "            \"categories\",\n",
    "            \"total_reviews\",\n",
    "            \"avg_review_stars\",\n",
    "            \"total_useful\",\n",
    "            col(\"stars\").alias(\"business_avg_stars\")\n",
    "        ).orderBy(\n",
    "            desc(\"avg_review_stars\"), \n",
    "            desc(\"total_reviews\")\n",
    "        ).limit(top_n)\n",
    "        \n",
    "        result_count = result.count()\n",
    "        \n",
    "        # Cleanup\n",
    "        review_partitioned.unpersist()\n",
    "        \n",
    "        elapsed = time.time() - start_time\n",
    "        print(f\"✓ Completed in {elapsed:.2f}s - Found {result_count} results\")\n",
    "        \n",
    "        return result"
   ]
  },
  {
   "cell_type": "code",
   "execution_count": 19,
   "id": "872ff021",
   "metadata": {},
   "outputs": [
    {
     "name": "stdout",
     "output_type": "stream",
     "text": [
      "\n",
      "============================================================\n",
      "Analysis 3: Top 10 Rated Products (Min 50 reviews)\n",
      "============================================================\n",
      "✓ Completed in 28.34s - Found 10 results\n"
     ]
    }
   ],
   "source": [
    "test_03 = top_rated_products(business, review, min_reviews=50, top_n=10)"
   ]
  },
  {
   "cell_type": "code",
   "execution_count": 20,
   "id": "47fce194",
   "metadata": {},
   "outputs": [
    {
     "name": "stdout",
     "output_type": "stream",
     "text": [
      "+--------------------+--------------------+-------------+-----+--------------------+-------------+----------------+------------+------------------+\n",
      "|         business_id|                name|         city|state|          categories|total_reviews|avg_review_stars|total_useful|business_avg_stars|\n",
      "+--------------------+--------------------+-------------+-----+--------------------+-------------+----------------+------------+------------------+\n",
      "|1RqfozJoosHAsKZhc...|Walls Jewelry Rep...|    Nashville|   TN|Watch Repair, Loc...|          114|             5.0|          97|               5.0|\n",
      "|-siOxQQcGKtb-04dX...|ella & louie flowers|Santa Barbara|   CA|Flowers & Gifts, ...|          104|             5.0|          65|               5.0|\n",
      "|4-P4Bzqd01YvKX9tp...|       Drink & Learn|  New Orleans|   LA|Beer, Wine & Spir...|           90|             5.0|          47|               5.0|\n",
      "|dhLARBhUnJloLa8xZ...|Steves iPhone Repair|  Cherry Hill|   NJ|Professional Serv...|           78|             5.0|          55|               5.0|\n",
      "|LTqm4uY4GIYHfzuh5...|Jeramie Lu Photog...|         Reno|   NV|Event Photography...|           77|             5.0|          85|               5.0|\n",
      "|x-SCuOwghy4GlZdVO...|Twisted Twig Fine...|Santa Barbara|   CA|Florists, Event P...|           74|             5.0|          23|               5.0|\n",
      "|2FQoAp9w0G_NhuZMq...|ByCherry Photography|Santa Barbara|   CA|Session Photograp...|           73|             5.0|          52|               5.0|\n",
      "|DnkpXhc5DKdeBT-0j...|Carpinteria Lock ...|  Carpinteria|   CA|Security Systems,...|           70|             5.0|          13|               5.0|\n",
      "|NLx84Im37HcZkcFBO...|Jack & Melody Cot...|         Reno|   NV|Real Estate Agent...|           69|             5.0|          36|               5.0|\n",
      "|_LHkm-m9a_IDqfqfd...|          Dj Hecktik|Santa Barbara|   CA|Photo Booth Renta...|           68|             5.0|          72|               5.0|\n",
      "+--------------------+--------------------+-------------+-----+--------------------+-------------+----------------+------------+------------------+\n",
      "\n"
     ]
    }
   ],
   "source": [
    "test_03.show()"
   ]
  },
  {
   "cell_type": "code",
   "execution_count": null,
   "id": "5e4e8636",
   "metadata": {},
   "outputs": [],
   "source": []
  },
  {
   "cell_type": "code",
   "execution_count": 21,
   "id": "9b1ea21a",
   "metadata": {},
   "outputs": [
    {
     "ename": "NameError",
     "evalue": "name 'top_selling_products_recent' is not defined",
     "output_type": "error",
     "traceback": [
      "\u001b[31m---------------------------------------------------------------------------\u001b[39m",
      "\u001b[31mNameError\u001b[39m                                 Traceback (most recent call last)",
      "\u001b[36mCell\u001b[39m\u001b[36m \u001b[39m\u001b[32mIn[21]\u001b[39m\u001b[32m, line 1\u001b[39m\n\u001b[32m----> \u001b[39m\u001b[32m1\u001b[39m test_05 = \u001b[43mtop_selling_products_recent\u001b[49m(review , business , days=\u001b[32m90\u001b[39m, top_n=\u001b[32m10\u001b[39m)\n",
      "\u001b[31mNameError\u001b[39m: name 'top_selling_products_recent' is not defined"
     ]
    }
   ],
   "source": [
    "test_05 = top_selling_products_recent(review , business , days=90, top_n=10)"
   ]
  },
  {
   "cell_type": "code",
   "execution_count": null,
   "id": "66737bc0",
   "metadata": {},
   "outputs": [],
   "source": [
    "def top_selling_products_recent(review_df, business_df, days=90, top_n=10):\n",
    "        \"\"\"\n",
    "        1. Top sản phẩm (doanh nghiệp) bán chạy nhất trong khoảng thời gian gần\n",
    "        \n",
    "        Optimizations:\n",
    "        - Salting to handle data skew\n",
    "        - Two-stage aggregation\n",
    "        - Broadcast join for business info\n",
    "        - Early filtering and limiting\n",
    "        \n",
    "        Args:\n",
    "            review_df: DataFrame chứa dữ liệu review (đã preprocess dates)\n",
    "            business_df: DataFrame chứa dữ liệu business\n",
    "            days: số ngày gần đây cần phân tích\n",
    "            top_n: số lượng top sản phẩm\n",
    "        \n",
    "        Returns:\n",
    "            DataFrame với top sản phẩm bán chạy nhất\n",
    "        \"\"\"\n",
    "        print(f\"\\n{'='*60}\")\n",
    "        print(f\"Analysis 1: Top {top_n} Selling Products (Last {days} days)\")\n",
    "        print(f\"{'='*60}\")\n",
    "        start_time = time.time()\n",
    "        \n",
    "        # Add salt to handle skew\n",
    "        review_with_salt = review_df.withColumn(\"salt\", (rand() * 10).cast(\"int\"))\n",
    "        \n",
    "        # Filter by date range\n",
    "        cutoff_date = current_date() - lit(days)\n",
    "        recent_reviews = review_with_salt.filter(col(\"review_date\") >= cutoff_date)\n",
    "        \n",
    "        # Stage 1: Salted aggregation\n",
    "        salted_agg = recent_reviews.groupBy(\"business_id\", \"salt\").agg(\n",
    "            count(\"review_id\").alias(\"partial_count\"),\n",
    "            sum(\"stars\").alias(\"partial_sum_stars\"),\n",
    "            count(\"stars\").alias(\"partial_count_stars\")\n",
    "        )\n",
    "        \n",
    "        # Stage 2: Final aggregation\n",
    "        business_stats = salted_agg.groupBy(\"business_id\").agg(\n",
    "            sum(\"partial_count\").alias(\"recent_review_count\"),\n",
    "            (sum(\"partial_sum_stars\") / sum(\"partial_count_stars\")).alias(\"avg_rating\")\n",
    "        )\n",
    "        \n",
    "        # Get top candidates before join\n",
    "        top_candidates = business_stats \\\n",
    "            .orderBy(desc(\"recent_review_count\")) \\\n",
    "            .limit(top_n * 10)\n",
    "        \n",
    "        # Broadcast join with business info\n",
    "        result = top_candidates.join(\n",
    "            broadcast(business_df.select(\n",
    "                \"business_id\", \"name\", \"city\", \"state\", \"categories\"\n",
    "            )),\n",
    "            \"business_id\"\n",
    "        ).select(\n",
    "            \"business_id\",\n",
    "            \"name\",\n",
    "            \"city\",\n",
    "            \"state\",\n",
    "            \"categories\",\n",
    "            \"recent_review_count\",\n",
    "            \"avg_rating\"\n",
    "        ).orderBy(desc(\"recent_review_count\")).limit(top_n)\n",
    "        \n",
    "        # Materialize result\n",
    "        result_count = result.count()\n",
    "        \n",
    "        elapsed = time.time() - start_time\n",
    "        print(f\"✓ Completed in {elapsed:.2f}s - Found {result_count} results\")\n",
    "        \n",
    "        return result\n",
    "    "
   ]
  }
 ],
 "metadata": {
  "kernelspec": {
   "display_name": "Python 3",
   "language": "python",
   "name": "python3"
  },
  "language_info": {
   "codemirror_mode": {
    "name": "ipython",
    "version": 3
   },
   "file_extension": ".py",
   "mimetype": "text/x-python",
   "name": "python",
   "nbconvert_exporter": "python",
   "pygments_lexer": "ipython3",
   "version": "3.13.7"
  }
 },
 "nbformat": 4,
 "nbformat_minor": 5
}
