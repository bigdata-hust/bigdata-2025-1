{
 "cells": [
  {
   "cell_type": "code",
   "execution_count": 1,
   "id": "f982efca",
   "metadata": {},
   "outputs": [],
   "source": [
    "import pyspark \n",
    "from pyspark.sql import SparkSession"
   ]
  },
  {
   "cell_type": "code",
   "execution_count": 2,
   "id": "c3740fd5",
   "metadata": {},
   "outputs": [],
   "source": [
    "spark = SparkSession.builder.config('spark.driver.memory' , '6g').getOrCreate()"
   ]
  },
  {
   "cell_type": "code",
   "execution_count": 3,
   "id": "0dbb49fe",
   "metadata": {},
   "outputs": [
    {
     "ename": "AnalysisException",
     "evalue": "[PATH_NOT_FOUND] Path does not exist: file:/D:/VS-workspace/bigdata-2025-1/Spark/output/diverse_stores/part-00000-5b9a1d34-c226-4a74-990f-6eb7712216ed-c000.snappy.parquet. SQLSTATE: 42K03",
     "output_type": "error",
     "traceback": [
      "\u001b[31m---------------------------------------------------------------------------\u001b[39m",
      "\u001b[31mAnalysisException\u001b[39m                         Traceback (most recent call last)",
      "\u001b[36mCell\u001b[39m\u001b[36m \u001b[39m\u001b[32mIn[3]\u001b[39m\u001b[32m, line 1\u001b[39m\n\u001b[32m----> \u001b[39m\u001b[32m1\u001b[39m test = \u001b[43mspark\u001b[49m\u001b[43m.\u001b[49m\u001b[43mread\u001b[49m\u001b[43m.\u001b[49m\u001b[43mparquet\u001b[49m\u001b[43m(\u001b[49m\u001b[33;43mr\u001b[39;49m\u001b[33;43m'\u001b[39;49m\u001b[33;43mD:\u001b[39;49m\u001b[33;43m\\\u001b[39;49m\u001b[33;43mVS-workspace\u001b[39;49m\u001b[33;43m\\\u001b[39;49m\u001b[33;43mbigdata-2025-1\u001b[39;49m\u001b[33;43m\\\u001b[39;49m\u001b[33;43mSpark\u001b[39;49m\u001b[33;43m\\\u001b[39;49m\u001b[33;43moutput\u001b[39;49m\u001b[33;43m\\\u001b[39;49m\u001b[33;43mdiverse_stores\u001b[39;49m\u001b[33;43m\\\u001b[39;49m\u001b[33;43mpart-00000-5b9a1d34-c226-4a74-990f-6eb7712216ed-c000.snappy.parquet\u001b[39;49m\u001b[33;43m'\u001b[39;49m\u001b[43m)\u001b[49m\n",
      "\u001b[36mFile \u001b[39m\u001b[32mc:\\Users\\Admin\\AppData\\Local\\Programs\\Python\\Python313\\Lib\\site-packages\\pyspark\\sql\\readwriter.py:642\u001b[39m, in \u001b[36mDataFrameReader.parquet\u001b[39m\u001b[34m(self, *paths, **options)\u001b[39m\n\u001b[32m    631\u001b[39m int96RebaseMode = options.get(\u001b[33m\"\u001b[39m\u001b[33mint96RebaseMode\u001b[39m\u001b[33m\"\u001b[39m, \u001b[38;5;28;01mNone\u001b[39;00m)\n\u001b[32m    632\u001b[39m \u001b[38;5;28mself\u001b[39m._set_opts(\n\u001b[32m    633\u001b[39m     mergeSchema=mergeSchema,\n\u001b[32m    634\u001b[39m     pathGlobFilter=pathGlobFilter,\n\u001b[32m   (...)\u001b[39m\u001b[32m    639\u001b[39m     int96RebaseMode=int96RebaseMode,\n\u001b[32m    640\u001b[39m )\n\u001b[32m--> \u001b[39m\u001b[32m642\u001b[39m \u001b[38;5;28;01mreturn\u001b[39;00m \u001b[38;5;28mself\u001b[39m._df(\u001b[38;5;28;43mself\u001b[39;49m\u001b[43m.\u001b[49m\u001b[43m_jreader\u001b[49m\u001b[43m.\u001b[49m\u001b[43mparquet\u001b[49m\u001b[43m(\u001b[49m\u001b[43m_to_seq\u001b[49m\u001b[43m(\u001b[49m\u001b[38;5;28;43mself\u001b[39;49m\u001b[43m.\u001b[49m\u001b[43m_spark\u001b[49m\u001b[43m.\u001b[49m\u001b[43m_sc\u001b[49m\u001b[43m,\u001b[49m\u001b[43m \u001b[49m\u001b[43mpaths\u001b[49m\u001b[43m)\u001b[49m\u001b[43m)\u001b[49m)\n",
      "\u001b[36mFile \u001b[39m\u001b[32mc:\\Users\\Admin\\AppData\\Local\\Programs\\Python\\Python313\\Lib\\site-packages\\py4j\\java_gateway.py:1362\u001b[39m, in \u001b[36mJavaMember.__call__\u001b[39m\u001b[34m(self, *args)\u001b[39m\n\u001b[32m   1356\u001b[39m command = proto.CALL_COMMAND_NAME +\\\n\u001b[32m   1357\u001b[39m     \u001b[38;5;28mself\u001b[39m.command_header +\\\n\u001b[32m   1358\u001b[39m     args_command +\\\n\u001b[32m   1359\u001b[39m     proto.END_COMMAND_PART\n\u001b[32m   1361\u001b[39m answer = \u001b[38;5;28mself\u001b[39m.gateway_client.send_command(command)\n\u001b[32m-> \u001b[39m\u001b[32m1362\u001b[39m return_value = \u001b[43mget_return_value\u001b[49m\u001b[43m(\u001b[49m\n\u001b[32m   1363\u001b[39m \u001b[43m    \u001b[49m\u001b[43manswer\u001b[49m\u001b[43m,\u001b[49m\u001b[43m \u001b[49m\u001b[38;5;28;43mself\u001b[39;49m\u001b[43m.\u001b[49m\u001b[43mgateway_client\u001b[49m\u001b[43m,\u001b[49m\u001b[43m \u001b[49m\u001b[38;5;28;43mself\u001b[39;49m\u001b[43m.\u001b[49m\u001b[43mtarget_id\u001b[49m\u001b[43m,\u001b[49m\u001b[43m \u001b[49m\u001b[38;5;28;43mself\u001b[39;49m\u001b[43m.\u001b[49m\u001b[43mname\u001b[49m\u001b[43m)\u001b[49m\n\u001b[32m   1365\u001b[39m \u001b[38;5;28;01mfor\u001b[39;00m temp_arg \u001b[38;5;129;01min\u001b[39;00m temp_args:\n\u001b[32m   1366\u001b[39m     \u001b[38;5;28;01mif\u001b[39;00m \u001b[38;5;28mhasattr\u001b[39m(temp_arg, \u001b[33m\"\u001b[39m\u001b[33m_detach\u001b[39m\u001b[33m\"\u001b[39m):\n",
      "\u001b[36mFile \u001b[39m\u001b[32mc:\\Users\\Admin\\AppData\\Local\\Programs\\Python\\Python313\\Lib\\site-packages\\pyspark\\errors\\exceptions\\captured.py:288\u001b[39m, in \u001b[36mcapture_sql_exception.<locals>.deco\u001b[39m\u001b[34m(*a, **kw)\u001b[39m\n\u001b[32m    284\u001b[39m converted = convert_exception(e.java_exception)\n\u001b[32m    285\u001b[39m \u001b[38;5;28;01mif\u001b[39;00m \u001b[38;5;129;01mnot\u001b[39;00m \u001b[38;5;28misinstance\u001b[39m(converted, UnknownException):\n\u001b[32m    286\u001b[39m     \u001b[38;5;66;03m# Hide where the exception came from that shows a non-Pythonic\u001b[39;00m\n\u001b[32m    287\u001b[39m     \u001b[38;5;66;03m# JVM exception message.\u001b[39;00m\n\u001b[32m--> \u001b[39m\u001b[32m288\u001b[39m     \u001b[38;5;28;01mraise\u001b[39;00m converted \u001b[38;5;28;01mfrom\u001b[39;00m\u001b[38;5;250m \u001b[39m\u001b[38;5;28;01mNone\u001b[39;00m\n\u001b[32m    289\u001b[39m \u001b[38;5;28;01melse\u001b[39;00m:\n\u001b[32m    290\u001b[39m     \u001b[38;5;28;01mraise\u001b[39;00m\n",
      "\u001b[31mAnalysisException\u001b[39m: [PATH_NOT_FOUND] Path does not exist: file:/D:/VS-workspace/bigdata-2025-1/Spark/output/diverse_stores/part-00000-5b9a1d34-c226-4a74-990f-6eb7712216ed-c000.snappy.parquet. SQLSTATE: 42K03"
     ]
    }
   ],
   "source": [
    "test = spark.read.parquet(r'D:\\VS-workspace\\bigdata-2025-1\\Spark\\output\\diverse_stores\\part-00000-5b9a1d34-c226-4a74-990f-6eb7712216ed-c000.snappy.parquet')"
   ]
  },
  {
   "cell_type": "code",
   "execution_count": null,
   "id": "3c6c6cd3",
   "metadata": {},
   "outputs": [
    {
     "name": "stdout",
     "output_type": "stream",
     "text": [
      "+--------------------+--------------------+-------------+-----+--------------------+--------------+------------+-----+\n",
      "|         business_id|                name|         city|state|          categories|category_count|review_count|stars|\n",
      "+--------------------+--------------------+-------------+-----+--------------------+--------------+------------+-----+\n",
      "|ytynqOUb3hjKeJfRj...|Reading Terminal ...| Philadelphia|   PA|Candy Stores, Sho...|            36|        5721|  4.5|\n",
      "|TfRyyMfqDxtC1KA1j...|    NEST Center City| Philadelphia|   PA|Lounges, Venues &...|            26|          63|  4.0|\n",
      "|5hyIty7KkRfVE_1gC...|Delectables Cater...|       Tucson|   AZ|Caterers, Mexican...|            25|         145|  3.5|\n",
      "|mmlZz6ypFdgHROjt2...|Hi-Tech Intellige...| Philadelphia|   PA|TV Mounting, Shop...|            24|          10|  4.0|\n",
      "|kdboJGRQZXuKYLIFM...|Boise Auto Repair...|        Boise|   ID|Hawaiian, Car Ste...|            23|          15|  3.5|\n",
      "|Zk4aemT88EwIvoa-1...| I-4 Power Equipment|   Plant City|   FL|Shopping, Outdoor...|            23|           6|  3.0|\n",
      "|iOFbMitGdfU6i5xm4...|Blue Willow Resta...|       Tucson|   AZ|Cards & Stationer...|            22|         625|  4.0|\n",
      "|4fKGv-3XMlxv_vuiF...|        The Drive In|         Reno|   NV|Wine Bars, Sandwi...|            22|          63|  4.5|\n",
      "|lPday_z2XpRJqbFWy...| Taste Safety Harbor|Safety Harbor|   FL|Restaurants, Vega...|            22|           7|  3.5|\n",
      "|-mDAFyX5kZHXhxjEL...|      Winslow's Home|  Saint Louis|   MO|Specialty Food, V...|            21|         528|  4.0|\n",
      "+--------------------+--------------------+-------------+-----+--------------------+--------------+------------+-----+\n",
      "\n"
     ]
    }
   ],
   "source": [
    "test.show()"
   ]
  }
 ],
 "metadata": {
  "kernelspec": {
   "display_name": "Python 3",
   "language": "python",
   "name": "python3"
  },
  "language_info": {
   "codemirror_mode": {
    "name": "ipython",
    "version": 3
   },
   "file_extension": ".py",
   "mimetype": "text/x-python",
   "name": "python",
   "nbconvert_exporter": "python",
   "pygments_lexer": "ipython3",
   "version": "3.13.7"
  }
 },
 "nbformat": 4,
 "nbformat_minor": 5
}
