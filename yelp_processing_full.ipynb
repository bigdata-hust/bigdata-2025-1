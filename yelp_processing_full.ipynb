{
 "cells": [
  {
   "cell_type": "markdown",
   "metadata": {},
   "source": [
    "# Yelp Dataset Processing - Full Dataset\n",
    "## Xử lý toàn bộ dữ liệu với Batch Processing\n",
    "\n",
    "**Cấu hình:**\n",
    "- Batch size: 50,000 records\n",
    "- Train/Test split: 80/20 (stratified)\n",
    "- Remove duplicates & null reviews\n",
    "- Progress tracking với estimated time"
   ]
  },
  {
   "cell_type": "markdown",
   "metadata": {},
   "source": [
    "## 0. Cài đặt thư viện cần thiết"
   ]
  },
  {
   "cell_type": "code",
   "execution_count": 1,
   "metadata": {},
   "outputs": [],
   "source": [
    "# Cài đặt tqdm nếu chưa có\n",
    "!pip install tqdm -q"
   ]
  },
  {
   "cell_type": "code",
   "execution_count": 2,
   "metadata": {},
   "outputs": [
    {
     "name": "stdout",
     "output_type": "stream",
     "text": [
      "✅ Libraries imported successfully!\n",
      "📅 Start time: 2025-10-12 15:12:37\n"
     ]
    }
   ],
   "source": [
    "import json\n",
    "import pandas as pd\n",
    "import numpy as np\n",
    "from datetime import datetime\n",
    "import os\n",
    "from tqdm import tqdm\n",
    "from sklearn.model_selection import train_test_split\n",
    "import psutil\n",
    "import time\n",
    "\n",
    "print(\"✅ Libraries imported successfully!\")\n",
    "print(f\"📅 Start time: {datetime.now().strftime('%Y-%m-%d %H:%M:%S')}\")"
   ]
  },
  {
   "cell_type": "markdown",
   "metadata": {},
   "source": [
    "## 1. Cấu hình"
   ]
  },
  {
   "cell_type": "code",
   "execution_count": 3,
   "metadata": {},
   "outputs": [
    {
     "name": "stdout",
     "output_type": "stream",
     "text": [
      "📂 Data path: Yelp/yelp_dataset/\n",
      "📂 Output directory: processed_data/\n",
      "📊 Batch size: 50,000\n",
      "✂️ Train/Test split: 80%/20%\n"
     ]
    }
   ],
   "source": [
    "# ⚙️ CẤU HÌNH - THAY ĐỔI ĐƯỜNG DẪN\n",
    "DATA_PATH = \"Yelp/yelp_dataset/\"\n",
    "\n",
    "FILE_PATHS = {\n",
    "    'business': DATA_PATH + 'yelp_academic_dataset_business.json',\n",
    "    'review': DATA_PATH + 'yelp_academic_dataset_review.json',\n",
    "    'user': DATA_PATH + 'yelp_academic_dataset_user.json'\n",
    "}\n",
    "\n",
    "OUTPUT_DIR = \"processed_data/\"\n",
    "\n",
    "# Batch processing settings\n",
    "BATCH_SIZE = 50000\n",
    "\n",
    "# Train/Test split settings\n",
    "TRAIN_SIZE = 0.8\n",
    "TEST_SIZE = 0.2\n",
    "RANDOM_STATE = 42\n",
    "\n",
    "# Create output directory\n",
    "os.makedirs(OUTPUT_DIR, exist_ok=True)\n",
    "\n",
    "print(f\"📂 Data path: {DATA_PATH}\")\n",
    "print(f\"📂 Output directory: {OUTPUT_DIR}\")\n",
    "print(f\"📊 Batch size: {BATCH_SIZE:,}\")\n",
    "print(f\"✂️ Train/Test split: {TRAIN_SIZE:.0%}/{TEST_SIZE:.0%}\")"
   ]
  },
  {
   "cell_type": "markdown",
   "metadata": {},
   "source": [
    "## 2. Helper Functions"
   ]
  },
  {
   "cell_type": "code",
   "execution_count": 4,
   "metadata": {},
   "outputs": [
    {
     "name": "stdout",
     "output_type": "stream",
     "text": [
      "✅ Helper functions defined!\n"
     ]
    }
   ],
   "source": [
    "def get_memory_usage():\n",
    "    \"\"\"Get current memory usage in MB\"\"\"\n",
    "    process = psutil.Process()\n",
    "    return process.memory_info().rss / 1024 / 1024\n",
    "\n",
    "def count_lines(filepath):\n",
    "    \"\"\"Count total lines in file for progress tracking\"\"\"\n",
    "    print(f\"Counting lines in {filepath.split('/')[-1]}...\")\n",
    "    with open(filepath, 'r', encoding='utf-8') as f:\n",
    "        return sum(1 for _ in f)\n",
    "\n",
    "def load_json_batch(filepath, batch_size=50000, show_progress=True):\n",
    "    \"\"\"\n",
    "    Load JSON Lines file in batches\n",
    "    Yields DataFrame batches\n",
    "    \"\"\"\n",
    "    total_lines = count_lines(filepath)\n",
    "    filename = filepath.split('/')[-1]\n",
    "    \n",
    "    batch_data = []\n",
    "    processed = 0\n",
    "    errors = 0\n",
    "    start_time = time.time()\n",
    "    \n",
    "    with open(filepath, 'r', encoding='utf-8') as f:\n",
    "        pbar = tqdm(total=total_lines, desc=f\"Loading {filename}\", unit=\" lines\")\n",
    "        \n",
    "        for line in f:\n",
    "            line = line.strip()\n",
    "            if not line:\n",
    "                pbar.update(1)\n",
    "                continue\n",
    "            \n",
    "            try:\n",
    "                obj = json.loads(line)\n",
    "                batch_data.append(obj)\n",
    "                processed += 1\n",
    "                \n",
    "                # Yield batch when size reached\n",
    "                if len(batch_data) >= batch_size:\n",
    "                    df_batch = pd.DataFrame(batch_data)\n",
    "                    yield df_batch\n",
    "                    batch_data = []\n",
    "                    \n",
    "                    # Show memory usage\n",
    "                    mem_mb = get_memory_usage()\n",
    "                    pbar.set_postfix({\n",
    "                        'RAM': f'{mem_mb:.0f}MB',\n",
    "                        'Errors': errors\n",
    "                    })\n",
    "                \n",
    "            except json.JSONDecodeError:\n",
    "                errors += 1\n",
    "            \n",
    "            pbar.update(1)\n",
    "        \n",
    "        # Yield remaining data\n",
    "        if batch_data:\n",
    "            df_batch = pd.DataFrame(batch_data)\n",
    "            yield df_batch\n",
    "        \n",
    "        pbar.close()\n",
    "    \n",
    "    elapsed = time.time() - start_time\n",
    "    print(f\"✅ Loaded {processed:,} records in {elapsed:.1f}s ({errors} errors)\")\n",
    "    print(f\"💾 Memory usage: {get_memory_usage():.0f} MB\\n\")\n",
    "\n",
    "print(\"✅ Helper functions defined!\")"
   ]
  },
  {
   "cell_type": "markdown",
   "metadata": {},
   "source": [
    "## 3. Process Business Data"
   ]
  },
  {
   "cell_type": "code",
   "execution_count": 5,
   "metadata": {},
   "outputs": [
    {
     "name": "stdout",
     "output_type": "stream",
     "text": [
      "================================================================================\n",
      "🏢 PROCESSING BUSINESS DATA\n",
      "================================================================================\n",
      "Counting lines in yelp_academic_dataset_business.json...\n"
     ]
    },
    {
     "name": "stderr",
     "output_type": "stream",
     "text": [
      "Loading yelp_academic_dataset_business.json: 100%|██████████| 150348/150348 [00:03<00:00, 40112.53 lines/s, RAM=539MB, Errors=1]"
     ]
    },
    {
     "name": "stdout",
     "output_type": "stream",
     "text": [
      "✅ Loaded 150,346 records in 3.8s (2 errors)\n",
      "💾 Memory usage: 234 MB\n",
      "\n",
      "\n",
      "✅ Business data processed: 150,346 records\n",
      "📁 Saved to: processed_data/processed_business.csv\n",
      "\n"
     ]
    },
    {
     "name": "stderr",
     "output_type": "stream",
     "text": [
      "\n"
     ]
    }
   ],
   "source": [
    "print(\"=\"*80)\n",
    "print(\"🏢 PROCESSING BUSINESS DATA\")\n",
    "print(\"=\"*80)\n",
    "\n",
    "output_file = OUTPUT_DIR + 'processed_business.csv'\n",
    "first_batch = True\n",
    "total_records = 0\n",
    "\n",
    "for batch_df in load_json_batch(FILE_PATHS['business'], BATCH_SIZE):\n",
    "    # Save batch to CSV (append mode)\n",
    "    batch_df.to_csv(\n",
    "        output_file,\n",
    "        mode='a',\n",
    "        header=first_batch,\n",
    "        index=False\n",
    "    )\n",
    "    first_batch = False\n",
    "    total_records += len(batch_df)\n",
    "\n",
    "print(f\"\\n✅ Business data processed: {total_records:,} records\")\n",
    "print(f\"📁 Saved to: {output_file}\\n\")"
   ]
  },
  {
   "cell_type": "markdown",
   "metadata": {},
   "source": [
    "## 4. Process Review Data (với labels)"
   ]
  },
  {
   "cell_type": "code",
   "execution_count": null,
   "metadata": {},
   "outputs": [
    {
     "name": "stdout",
     "output_type": "stream",
     "text": [
      "================================================================================\n",
      "📝 PROCESSING REVIEW DATA\n",
      "================================================================================\n",
      "Counting lines in yelp_academic_dataset_review.json...\n"
     ]
    }
   ],
   "source": [
    "print(\"=\"*80)\n",
    "print(\"📝 PROCESSING REVIEW DATA\")\n",
    "print(\"=\"*80)\n",
    "\n",
    "output_file = OUTPUT_DIR + 'processed_review.csv'\n",
    "first_batch = True\n",
    "total_records = 0\n",
    "null_removed = 0\n",
    "\n",
    "for batch_df in load_json_batch(FILE_PATHS['review'], BATCH_SIZE):\n",
    "    # Create sentiment labels\n",
    "    batch_df['label'] = batch_df['stars'].apply(lambda x: \n",
    "        0 if x <= 2 else (2 if x == 3 else 1)\n",
    "    )\n",
    "    \n",
    "    # Remove null text\n",
    "    before = len(batch_df)\n",
    "    batch_df = batch_df.dropna(subset=['text'])\n",
    "    null_removed += (before - len(batch_df))\n",
    "    \n",
    "    # Select required columns\n",
    "    batch_df = batch_df[['review_id', 'user_id', 'business_id', \n",
    "                         'stars', 'date', 'text', 'useful', 'label']]\n",
    "    \n",
    "    # Save batch\n",
    "    batch_df.to_csv(\n",
    "        output_file,\n",
    "        mode='a',\n",
    "        header=first_batch,\n",
    "        index=False\n",
    "    )\n",
    "    first_batch = False\n",
    "    total_records += len(batch_df)\n",
    "\n",
    "print(f\"\\n✅ Review data processed: {total_records:,} records\")\n",
    "print(f\"🗑️ Null reviews removed: {null_removed:,}\")\n",
    "print(f\"📁 Saved to: {output_file}\\n\")"
   ]
  },
  {
   "cell_type": "markdown",
   "metadata": {},
   "source": [
    "## 5. Process User Data"
   ]
  },
  {
   "cell_type": "code",
   "execution_count": null,
   "metadata": {},
   "outputs": [],
   "source": [
    "print(\"=\"*80)\n",
    "print(\"👥 PROCESSING USER DATA\")\n",
    "print(\"=\"*80)\n",
    "\n",
    "output_file = OUTPUT_DIR + 'processed_user.csv'\n",
    "first_batch = True\n",
    "total_records = 0\n",
    "\n",
    "for batch_df in load_json_batch(FILE_PATHS['user'], BATCH_SIZE):\n",
    "    # Map yelping_since to since\n",
    "    if 'yelping_since' in batch_df.columns:\n",
    "        batch_df['since'] = batch_df['yelping_since']\n",
    "    \n",
    "    # Select required columns\n",
    "    user_cols = ['user_id', 'name', 'review_count', 'since', \n",
    "                 'useful', 'fans', 'average_stars']\n",
    "    available_cols = [col for col in user_cols if col in batch_df.columns]\n",
    "    batch_df = batch_df[available_cols]\n",
    "    \n",
    "    # Save batch\n",
    "    batch_df.to_csv(\n",
    "        output_file,\n",
    "        mode='a',\n",
    "        header=first_batch,\n",
    "        index=False\n",
    "    )\n",
    "    first_batch = False\n",
    "    total_records += len(batch_df)\n",
    "\n",
    "print(f\"\\n✅ User data processed: {total_records:,} records\")\n",
    "print(f\"📁 Saved to: {output_file}\\n\")"
   ]
  },
  {
   "cell_type": "markdown",
   "metadata": {},
   "source": [
    "## 6. Create Training Dataset & Remove Duplicates"
   ]
  },
  {
   "cell_type": "code",
   "execution_count": null,
   "metadata": {},
   "outputs": [],
   "source": [
    "print(\"=\"*80)\n",
    "print(\"🎯 CREATING TRAINING DATASET\")\n",
    "print(\"=\"*80)\n",
    "\n",
    "print(\"Loading processed review data...\")\n",
    "# Load review data in chunks to manage memory\n",
    "df_training = pd.read_csv(\n",
    "    OUTPUT_DIR + 'processed_review.csv',\n",
    "    usecols=['text', 'label']\n",
    ")\n",
    "\n",
    "# Rename for training format\n",
    "df_training.columns = ['review', 'label']\n",
    "\n",
    "print(f\"📊 Initial records: {len(df_training):,}\")\n",
    "\n",
    "# Remove duplicates\n",
    "print(\"\\n🗑️ Removing duplicates...\")\n",
    "before_dup = len(df_training)\n",
    "df_training = df_training.drop_duplicates(subset=['review'])\n",
    "duplicates_removed = before_dup - len(df_training)\n",
    "\n",
    "print(f\"✅ After removing duplicates: {len(df_training):,} records\")\n",
    "print(f\"🗑️ Duplicates removed: {duplicates_removed:,}\")\n",
    "\n",
    "# Show label distribution\n",
    "print(\"\\n📊 Label Distribution:\")\n",
    "label_dist = df_training['label'].value_counts().sort_index()\n",
    "for label, count in label_dist.items():\n",
    "    label_name = {0: 'Tiêu cực', 1: 'Tích cực', 2: 'Trung lập'}[label]\n",
    "    pct = count / len(df_training) * 100\n",
    "    print(f\"   {label_name} ({label}): {count:,} ({pct:.1f}%)\")\n",
    "\n",
    "print(f\"\\n💾 Memory usage: {get_memory_usage():.0f} MB\")"
   ]
  },
  {
   "cell_type": "markdown",
   "metadata": {},
   "source": [
    "## 7. Train/Test Split (Stratified)"
   ]
  },
  {
   "cell_type": "code",
   "execution_count": null,
   "metadata": {},
   "outputs": [],
   "source": [
    "print(\"\\n\" + \"=\"*80)\n",
    "print(\"✂️ TRAIN/TEST SPLIT (STRATIFIED)\")\n",
    "print(\"=\"*80)\n",
    "\n",
    "# Stratified split to maintain label distribution\n",
    "train_df, test_df = train_test_split(\n",
    "    df_training,\n",
    "    test_size=TEST_SIZE,\n",
    "    random_state=RANDOM_STATE,\n",
    "    stratify=df_training['label']\n",
    ")\n",
    "\n",
    "print(f\"\\n📊 Split Summary:\")\n",
    "print(f\"   Train set: {len(train_df):,} ({len(train_df)/len(df_training)*100:.1f}%)\")\n",
    "print(f\"   Test set: {len(test_df):,} ({len(test_df)/len(df_training)*100:.1f}%)\")\n",
    "\n",
    "# Verify label distribution in train\n",
    "print(\"\\n📈 Train Set Label Distribution:\")\n",
    "for label, count in train_df['label'].value_counts().sort_index().items():\n",
    "    label_name = {0: 'Tiêu cực', 1: 'Tích cực', 2: 'Trung lập'}[label]\n",
    "    pct = count / len(train_df) * 100\n",
    "    print(f\"   {label_name} ({label}): {count:,} ({pct:.1f}%)\")\n",
    "\n",
    "# Verify label distribution in test\n",
    "print(\"\\n📈 Test Set Label Distribution:\")\n",
    "for label, count in test_df['label'].value_counts().sort_index().items():\n",
    "    label_name = {0: 'Tiêu cực', 1: 'Tích cực', 2: 'Trung lập'}[label]\n",
    "    pct = count / len(test_df) * 100\n",
    "    print(f\"   {label_name} ({label}): {count:,} ({pct:.1f}%)\")"
   ]
  },
  {
   "cell_type": "markdown",
   "metadata": {},
   "source": [
    "## 8. Export Train/Test Files"
   ]
  },
  {
   "cell_type": "code",
   "execution_count": null,
   "metadata": {},
   "outputs": [],
   "source": [
    "print(\"\\n\" + \"=\"*80)\n",
    "print(\"💾 EXPORTING TRAIN/TEST FILES\")\n",
    "print(\"=\"*80)\n",
    "\n",
    "# Export train set\n",
    "train_file = OUTPUT_DIR + 'train.csv'\n",
    "train_df.to_csv(train_file, index=False)\n",
    "print(f\"✅ Train set exported: {train_file}\")\n",
    "print(f\"   Records: {len(train_df):,}\")\n",
    "print(f\"   Size: {os.path.getsize(train_file) / 1024 / 1024:.1f} MB\")\n",
    "\n",
    "# Export test set\n",
    "test_file = OUTPUT_DIR + 'test.csv'\n",
    "test_df.to_csv(test_file, index=False)\n",
    "print(f\"\\n✅ Test set exported: {test_file}\")\n",
    "print(f\"   Records: {len(test_df):,}\")\n",
    "print(f\"   Size: {os.path.getsize(test_file) / 1024 / 1024:.1f} MB\")"
   ]
  },
  {
   "cell_type": "markdown",
   "metadata": {},
   "source": [
    "## 9. Final Summary Report"
   ]
  },
  {
   "cell_type": "code",
   "execution_count": null,
   "metadata": {},
   "outputs": [],
   "source": [
    "print(\"\\n\" + \"=\"*80)\n",
    "print(\"📊 FINAL SUMMARY REPORT\")\n",
    "print(\"=\"*80)\n",
    "\n",
    "# Calculate file sizes\n",
    "business_size = os.path.getsize(OUTPUT_DIR + 'processed_business.csv') / 1024 / 1024\n",
    "review_size = os.path.getsize(OUTPUT_DIR + 'processed_review.csv') / 1024 / 1024\n",
    "user_size = os.path.getsize(OUTPUT_DIR + 'processed_user.csv') / 1024 / 1024\n",
    "train_size = os.path.getsize(OUTPUT_DIR + 'train.csv') / 1024 / 1024\n",
    "test_size = os.path.getsize(OUTPUT_DIR + 'test.csv') / 1024 / 1024\n",
    "\n",
    "print(f\"\\n📁 Output Files:\")\n",
    "print(f\"   📄 processed_business.csv - {business_size:.1f} MB\")\n",
    "print(f\"   📄 processed_review.csv - {review_size:.1f} MB\")\n",
    "print(f\"   📄 processed_user.csv - {user_size:.1f} MB\")\n",
    "print(f\"   📄 train.csv - {train_size:.1f} MB\")\n",
    "print(f\"   📄 test.csv - {test_size:.1f} MB\")\n",
    "print(f\"   📂 Total size: {business_size + review_size + user_size + train_size + test_size:.1f} MB\")\n",
    "\n",
    "print(f\"\\n📊 Record Counts:\")\n",
    "print(f\"   Business: {pd.read_csv(OUTPUT_DIR + 'processed_business.csv').shape[0]:,}\")\n",
    "print(f\"   Reviews: {pd.read_csv(OUTPUT_DIR + 'processed_review.csv').shape[0]:,}\")\n",
    "print(f\"   Users: {pd.read_csv(OUTPUT_DIR + 'processed_user.csv').shape[0]:,}\")\n",
    "print(f\"   Train: {len(train_df):,}\")\n",
    "print(f\"   Test: {len(test_df):,}\")\n",
    "\n",
    "print(f\"\\n🗑️ Data Cleaning:\")\n",
    "print(f\"   Null reviews removed: {null_removed:,}\")\n",
    "print(f\"   Duplicates removed: {duplicates_removed:,}\")\n",
    "\n",
    "print(f\"\\n💾 Peak memory usage: {get_memory_usage():.0f} MB\")\n",
    "print(f\"📅 Completed: {datetime.now().strftime('%Y-%m-%d %H:%M:%S')}\")\n",
    "\n",
    "print(\"\\n\" + \"=\"*80)\n",
    "print(\"🎉 PROCESSING COMPLETE!\")\n",
    "print(\"=\"*80)\n",
    "print(f\"\\n✅ All files saved to: {OUTPUT_DIR}\")\n",
    "print(\"\\n📚 Next steps:\")\n",
    "print(\"   1. Use train.csv for model training\")\n",
    "print(\"   2. Use test.csv for model evaluation\")\n",
    "print(\"   3. Labels: 0=Tiêu cực, 1=Tích cực, 2=Trung lập\")"
   ]
  },
  {
   "cell_type": "markdown",
   "metadata": {},
   "source": [
    "## 10. Quick Data Preview"
   ]
  },
  {
   "cell_type": "code",
   "execution_count": null,
   "metadata": {},
   "outputs": [],
   "source": [
    "print(\"📋 TRAIN DATA PREVIEW:\\n\")\n",
    "print(train_df.head(10))\n",
    "\n",
    "print(\"\\n📋 TEST DATA PREVIEW:\\n\")\n",
    "print(test_df.head(10))"
   ]
  }
 ],
 "metadata": {
  "kernelspec": {
   "display_name": "Python (ml_env)",
   "language": "python",
   "name": "ml_env"
  },
  "language_info": {
   "codemirror_mode": {
    "name": "ipython",
    "version": 3
   },
   "file_extension": ".py",
   "mimetype": "text/x-python",
   "name": "python",
   "nbconvert_exporter": "python",
   "pygments_lexer": "ipython3",
   "version": "3.10.18"
  }
 },
 "nbformat": 4,
 "nbformat_minor": 4
}
