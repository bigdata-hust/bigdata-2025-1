{
 "cells": [
  {
   "cell_type": "code",
   "execution_count": 2,
   "id": "41f6414d",
   "metadata": {},
   "outputs": [],
   "source": [
    "import pandas as pd\n",
    "\n",
    "import missingno as msno\n",
    "from datetime import datetime , timedelta\n",
    "import random \n",
    "import numpy as np "
   ]
  },
  {
   "cell_type": "markdown",
   "id": "bd231a9d",
   "metadata": {},
   "source": [
    "## BUSINESS"
   ]
  },
  {
   "cell_type": "code",
   "execution_count": 3,
   "id": "53462456",
   "metadata": {},
   "outputs": [],
   "source": [
    "business_test = pd.read_json(r\"D:\\VS-workspace\\test\\data\\yelp_academic_dataset_business.json\" , lines = True)"
   ]
  },
  {
   "cell_type": "code",
   "execution_count": 5,
   "id": "1ded1ee9",
   "metadata": {},
   "outputs": [
    {
     "data": {
      "text/plain": [
       "business_id      0.000000\n",
       "name             0.000000\n",
       "address          0.000000\n",
       "city             0.000000\n",
       "state            0.000000\n",
       "postal_code      0.000000\n",
       "latitude         0.000000\n",
       "longitude        0.000000\n",
       "stars            0.000000\n",
       "review_count     0.000000\n",
       "is_open          0.000000\n",
       "attributes       9.141580\n",
       "categories       0.068509\n",
       "hours           15.446370\n",
       "dtype: float64"
      ]
     },
     "execution_count": 5,
     "metadata": {},
     "output_type": "execute_result"
    }
   ],
   "source": [
    "business_test.isnull().sum() * 100 / len(business_test)"
   ]
  },
  {
   "cell_type": "code",
   "execution_count": 6,
   "id": "ec71d05e",
   "metadata": {},
   "outputs": [],
   "source": [
    "business = pd.read_csv(r\"dataset/business_prepared.csv\")"
   ]
  },
  {
   "cell_type": "code",
   "execution_count": 7,
   "id": "6671dbf3",
   "metadata": {},
   "outputs": [
    {
     "data": {
      "text/html": [
       "<div>\n",
       "<style scoped>\n",
       "    .dataframe tbody tr th:only-of-type {\n",
       "        vertical-align: middle;\n",
       "    }\n",
       "\n",
       "    .dataframe tbody tr th {\n",
       "        vertical-align: top;\n",
       "    }\n",
       "\n",
       "    .dataframe thead th {\n",
       "        text-align: right;\n",
       "    }\n",
       "</style>\n",
       "<table border=\"1\" class=\"dataframe\">\n",
       "  <thead>\n",
       "    <tr style=\"text-align: right;\">\n",
       "      <th></th>\n",
       "      <th>Unnamed: 0</th>\n",
       "      <th>business_categories</th>\n",
       "      <th>business_city</th>\n",
       "      <th>business_full_address</th>\n",
       "      <th>business_id</th>\n",
       "      <th>business_latitude</th>\n",
       "      <th>business_longitude</th>\n",
       "      <th>business_name</th>\n",
       "      <th>business_open</th>\n",
       "      <th>business_review_count</th>\n",
       "      <th>business_stars</th>\n",
       "      <th>business_state</th>\n",
       "    </tr>\n",
       "  </thead>\n",
       "  <tbody>\n",
       "    <tr>\n",
       "      <th>0</th>\n",
       "      <td>0</td>\n",
       "      <td>Accountants; Professional Services; Tax Servic...</td>\n",
       "      <td>Peoria</td>\n",
       "      <td>8466 W Peoria Ave\\nSte 6\\nPeoria, AZ 85345</td>\n",
       "      <td>rncjoVoEFUJGCUoC1JgnUA</td>\n",
       "      <td>33.581867</td>\n",
       "      <td>-112.241596</td>\n",
       "      <td>Peoria Income Tax Service</td>\n",
       "      <td>True</td>\n",
       "      <td>3</td>\n",
       "      <td>5.0</td>\n",
       "      <td>AZ</td>\n",
       "    </tr>\n",
       "  </tbody>\n",
       "</table>\n",
       "</div>"
      ],
      "text/plain": [
       "   Unnamed: 0                                business_categories  \\\n",
       "0           0  Accountants; Professional Services; Tax Servic...   \n",
       "\n",
       "  business_city                       business_full_address  \\\n",
       "0        Peoria  8466 W Peoria Ave\\nSte 6\\nPeoria, AZ 85345   \n",
       "\n",
       "              business_id  business_latitude  business_longitude  \\\n",
       "0  rncjoVoEFUJGCUoC1JgnUA          33.581867         -112.241596   \n",
       "\n",
       "               business_name  business_open  business_review_count  \\\n",
       "0  Peoria Income Tax Service           True                      3   \n",
       "\n",
       "   business_stars business_state  \n",
       "0             5.0             AZ  "
      ]
     },
     "execution_count": 7,
     "metadata": {},
     "output_type": "execute_result"
    }
   ],
   "source": [
    "business.head(1)"
   ]
  },
  {
   "cell_type": "code",
   "execution_count": 8,
   "id": "07e2807a",
   "metadata": {},
   "outputs": [],
   "source": [
    "business = business.reindex(columns = ['Unnamed: 0', 'business_id', 'business_name', 'business_full_address', 'business_city', 'business_state' ,\t\n",
    "                            'business_latitude', 'business_longitude', 'business_stars', 'business_review_count','business_open', \"business_categories\"])"
   ]
  },
  {
   "cell_type": "code",
   "execution_count": 9,
   "id": "6d25e82c",
   "metadata": {},
   "outputs": [],
   "source": [
    "business.drop(columns = \"Unnamed: 0\" , axis = 1 , inplace = True)"
   ]
  },
  {
   "cell_type": "code",
   "execution_count": 10,
   "id": "df15b7d7",
   "metadata": {},
   "outputs": [],
   "source": [
    "business.rename(columns = {'business_name': 'name', 'business_full_address':'address', 'business_city':'city', 'business_state':'state' ,\t\n",
    "                            'business_latitude':'latitude', 'business_longitude':'longtitude', 'business_stars':'stars',\n",
    "                            'business_review_count':'review_count', 'business_open':'is_open', \"business_categories\":'categories'} , inplace = True)"
   ]
  },
  {
   "cell_type": "code",
   "execution_count": 11,
   "id": "df36109e",
   "metadata": {},
   "outputs": [
    {
     "data": {
      "text/plain": [
       "business_id     0\n",
       "name            0\n",
       "address         0\n",
       "city            0\n",
       "state           0\n",
       "latitude        0\n",
       "longtitude      0\n",
       "stars           0\n",
       "review_count    0\n",
       "is_open         0\n",
       "categories      0\n",
       "dtype: int64"
      ]
     },
     "execution_count": 11,
     "metadata": {},
     "output_type": "execute_result"
    }
   ],
   "source": [
    "business.isnull().sum()"
   ]
  },
  {
   "cell_type": "code",
   "execution_count": 12,
   "id": "64d2d7b6",
   "metadata": {},
   "outputs": [],
   "source": [
    "business.to_csv(r\"D:\\VS-workspace\\test\\dataset\\business.csv\" , index = False) "
   ]
  },
  {
   "cell_type": "markdown",
   "id": "dc0e3099",
   "metadata": {},
   "source": [
    "## REVIEW\n"
   ]
  },
  {
   "cell_type": "code",
   "execution_count": 13,
   "id": "63215230",
   "metadata": {},
   "outputs": [],
   "source": [
    "review = pd.read_csv(r\"dataset/review_prepared.csv\" )"
   ]
  },
  {
   "cell_type": "code",
   "execution_count": 14,
   "id": "8031e76b",
   "metadata": {},
   "outputs": [
    {
     "data": {
      "text/plain": [
       "Index(['Unnamed: 0', 'business_categories', 'business_city',\n",
       "       'business_full_address', 'business_id', 'business_latitude',\n",
       "       'business_longitude', 'business_name', 'business_open',\n",
       "       'business_review_count', 'business_stars', 'business_state', 'cool',\n",
       "       'date', 'funny', 'review_id', 'reviewer_average_stars',\n",
       "       'reviewer_blank', 'reviewer_cool', 'reviewer_funny', 'reviewer_name',\n",
       "       'reviewer_review_count', 'reviewer_useful', 'stars', 'text', 'useful',\n",
       "       'user_id'],\n",
       "      dtype='object')"
      ]
     },
     "execution_count": 14,
     "metadata": {},
     "output_type": "execute_result"
    }
   ],
   "source": [
    "review.columns"
   ]
  },
  {
   "cell_type": "code",
   "execution_count": 15,
   "id": "ef80c913",
   "metadata": {},
   "outputs": [],
   "source": [
    "review.drop(columns = ['Unnamed: 0', 'business_categories', 'business_city',\n",
    "       'business_full_address', 'business_latitude',\n",
    "       'business_longitude', 'business_name', 'business_open',\n",
    "       'business_review_count', 'business_stars', 'business_state',\n",
    "       'cool', 'funny',  'reviewer_average_stars',\n",
    "       'reviewer_blank', 'reviewer_cool', 'reviewer_funny', 'reviewer_name',\n",
    "       'reviewer_review_count', 'reviewer_useful'\n",
    "       ],axis = 1,inplace = True)"
   ]
  },
  {
   "cell_type": "code",
   "execution_count": 16,
   "id": "fdbd8343",
   "metadata": {},
   "outputs": [
    {
     "data": {
      "text/plain": [
       "Index(['business_id', 'date', 'review_id', 'stars', 'text', 'useful',\n",
       "       'user_id'],\n",
       "      dtype='object')"
      ]
     },
     "execution_count": 16,
     "metadata": {},
     "output_type": "execute_result"
    }
   ],
   "source": [
    "review.columns"
   ]
  },
  {
   "cell_type": "code",
   "execution_count": 17,
   "id": "fa8728ea",
   "metadata": {},
   "outputs": [],
   "source": [
    "review = review.reindex(columns = ['review_id', 'user_id', 'business_id', 'stars', 'date', 'text', 'useful'] , level = \"Experiment\" )"
   ]
  },
  {
   "cell_type": "code",
   "execution_count": 18,
   "id": "4db15c15",
   "metadata": {},
   "outputs": [
    {
     "data": {
      "text/html": [
       "<div>\n",
       "<style scoped>\n",
       "    .dataframe tbody tr th:only-of-type {\n",
       "        vertical-align: middle;\n",
       "    }\n",
       "\n",
       "    .dataframe tbody tr th {\n",
       "        vertical-align: top;\n",
       "    }\n",
       "\n",
       "    .dataframe thead th {\n",
       "        text-align: right;\n",
       "    }\n",
       "</style>\n",
       "<table border=\"1\" class=\"dataframe\">\n",
       "  <thead>\n",
       "    <tr style=\"text-align: right;\">\n",
       "      <th></th>\n",
       "      <th>review_id</th>\n",
       "      <th>user_id</th>\n",
       "      <th>business_id</th>\n",
       "      <th>stars</th>\n",
       "      <th>date</th>\n",
       "      <th>text</th>\n",
       "      <th>useful</th>\n",
       "    </tr>\n",
       "  </thead>\n",
       "  <tbody>\n",
       "    <tr>\n",
       "      <th>0</th>\n",
       "      <td>fWKvX83p0-ka4JS3dc6E5A</td>\n",
       "      <td>rLtl8ZkDX5vH5nAx9C3q5Q</td>\n",
       "      <td>9yKzy9PApeiPPOUJEtnvkg</td>\n",
       "      <td>5</td>\n",
       "      <td>2011-01-26</td>\n",
       "      <td>My wife took me here on my birthday for breakf...</td>\n",
       "      <td>5</td>\n",
       "    </tr>\n",
       "    <tr>\n",
       "      <th>1</th>\n",
       "      <td>IjZ33sJrzXqU-0X6U8NwyA</td>\n",
       "      <td>0a2KyEL0d3Yb1V6aivbIuQ</td>\n",
       "      <td>ZRJwVLyzEJq1VAihDhYiow</td>\n",
       "      <td>5</td>\n",
       "      <td>2011-07-27</td>\n",
       "      <td>I have no idea why some people give bad review...</td>\n",
       "      <td>0</td>\n",
       "    </tr>\n",
       "    <tr>\n",
       "      <th>2</th>\n",
       "      <td>IESLBzqUCLdSzSqm0eCSxQ</td>\n",
       "      <td>0hT2KtfLiobPvh6cDC8JQg</td>\n",
       "      <td>6oRAC4uyJCsJl1X0WZpVSA</td>\n",
       "      <td>4</td>\n",
       "      <td>2012-06-14</td>\n",
       "      <td>love the gyro plate. Rice is so good and I als...</td>\n",
       "      <td>1</td>\n",
       "    </tr>\n",
       "    <tr>\n",
       "      <th>3</th>\n",
       "      <td>G-WvGaISbqqaMHlNnByodA</td>\n",
       "      <td>uZetl9T0NcROGOyFfughhg</td>\n",
       "      <td>_1QQZuf4zZOyFCvXc0o6Vg</td>\n",
       "      <td>5</td>\n",
       "      <td>2010-05-27</td>\n",
       "      <td>Rosie, Dakota, and I LOVE Chaparral Dog Park!!...</td>\n",
       "      <td>2</td>\n",
       "    </tr>\n",
       "    <tr>\n",
       "      <th>4</th>\n",
       "      <td>1uJFq2r5QfJG_6ExMRCaGw</td>\n",
       "      <td>vYmM4KTsC8ZfQBg-j5MWkw</td>\n",
       "      <td>6ozycU1RpktNG2-1BroVtw</td>\n",
       "      <td>5</td>\n",
       "      <td>2012-01-05</td>\n",
       "      <td>General Manager Scott Petello is a good egg!!!...</td>\n",
       "      <td>0</td>\n",
       "    </tr>\n",
       "  </tbody>\n",
       "</table>\n",
       "</div>"
      ],
      "text/plain": [
       "                review_id                 user_id             business_id  \\\n",
       "0  fWKvX83p0-ka4JS3dc6E5A  rLtl8ZkDX5vH5nAx9C3q5Q  9yKzy9PApeiPPOUJEtnvkg   \n",
       "1  IjZ33sJrzXqU-0X6U8NwyA  0a2KyEL0d3Yb1V6aivbIuQ  ZRJwVLyzEJq1VAihDhYiow   \n",
       "2  IESLBzqUCLdSzSqm0eCSxQ  0hT2KtfLiobPvh6cDC8JQg  6oRAC4uyJCsJl1X0WZpVSA   \n",
       "3  G-WvGaISbqqaMHlNnByodA  uZetl9T0NcROGOyFfughhg  _1QQZuf4zZOyFCvXc0o6Vg   \n",
       "4  1uJFq2r5QfJG_6ExMRCaGw  vYmM4KTsC8ZfQBg-j5MWkw  6ozycU1RpktNG2-1BroVtw   \n",
       "\n",
       "   stars        date                                               text  \\\n",
       "0      5  2011-01-26  My wife took me here on my birthday for breakf...   \n",
       "1      5  2011-07-27  I have no idea why some people give bad review...   \n",
       "2      4  2012-06-14  love the gyro plate. Rice is so good and I als...   \n",
       "3      5  2010-05-27  Rosie, Dakota, and I LOVE Chaparral Dog Park!!...   \n",
       "4      5  2012-01-05  General Manager Scott Petello is a good egg!!!...   \n",
       "\n",
       "   useful  \n",
       "0       5  \n",
       "1       0  \n",
       "2       1  \n",
       "3       2  \n",
       "4       0  "
      ]
     },
     "execution_count": 18,
     "metadata": {},
     "output_type": "execute_result"
    }
   ],
   "source": [
    "review.head()"
   ]
  },
  {
   "cell_type": "code",
   "execution_count": 19,
   "id": "c28758fe",
   "metadata": {},
   "outputs": [],
   "source": [
    "review.to_csv(r\"D:\\VS-workspace\\test\\dataset\\review.csv\" , index = False)"
   ]
  },
  {
   "cell_type": "markdown",
   "id": "da717483",
   "metadata": {},
   "source": [
    "## USER"
   ]
  },
  {
   "cell_type": "code",
   "execution_count": 20,
   "id": "cf4a688b",
   "metadata": {},
   "outputs": [],
   "source": [
    "user = pd.read_csv(r\"D:\\VS-workspace\\test\\dataset\\user_prepared.csv\")"
   ]
  },
  {
   "cell_type": "code",
   "execution_count": 21,
   "id": "540b5e1a",
   "metadata": {},
   "outputs": [
    {
     "data": {
      "text/plain": [
       "Index(['Unnamed: 0', 'reviewer_average_stars', 'reviewer_cool',\n",
       "       'reviewer_funny', 'reviewer_name', 'reviewer_review_count',\n",
       "       'reviewer_useful', 'user_id'],\n",
       "      dtype='object')"
      ]
     },
     "execution_count": 21,
     "metadata": {},
     "output_type": "execute_result"
    }
   ],
   "source": [
    "user.columns"
   ]
  },
  {
   "cell_type": "code",
   "execution_count": 22,
   "id": "62dad4b2",
   "metadata": {},
   "outputs": [
    {
     "data": {
      "text/html": [
       "<div>\n",
       "<style scoped>\n",
       "    .dataframe tbody tr th:only-of-type {\n",
       "        vertical-align: middle;\n",
       "    }\n",
       "\n",
       "    .dataframe tbody tr th {\n",
       "        vertical-align: top;\n",
       "    }\n",
       "\n",
       "    .dataframe thead th {\n",
       "        text-align: right;\n",
       "    }\n",
       "</style>\n",
       "<table border=\"1\" class=\"dataframe\">\n",
       "  <thead>\n",
       "    <tr style=\"text-align: right;\">\n",
       "      <th></th>\n",
       "      <th>Unnamed: 0</th>\n",
       "      <th>reviewer_average_stars</th>\n",
       "      <th>reviewer_cool</th>\n",
       "      <th>reviewer_funny</th>\n",
       "      <th>reviewer_name</th>\n",
       "      <th>reviewer_review_count</th>\n",
       "      <th>reviewer_useful</th>\n",
       "      <th>user_id</th>\n",
       "    </tr>\n",
       "  </thead>\n",
       "  <tbody>\n",
       "    <tr>\n",
       "      <th>0</th>\n",
       "      <td>0</td>\n",
       "      <td>5.0</td>\n",
       "      <td>0</td>\n",
       "      <td>0</td>\n",
       "      <td>Jim</td>\n",
       "      <td>6</td>\n",
       "      <td>7</td>\n",
       "      <td>CR2y7yEm4X035ZMzrTtN9Q</td>\n",
       "    </tr>\n",
       "    <tr>\n",
       "      <th>1</th>\n",
       "      <td>1</td>\n",
       "      <td>1.0</td>\n",
       "      <td>0</td>\n",
       "      <td>0</td>\n",
       "      <td>Kelle</td>\n",
       "      <td>2</td>\n",
       "      <td>1</td>\n",
       "      <td>_9GXoHhdxc30ujPaQwh6Ew</td>\n",
       "    </tr>\n",
       "    <tr>\n",
       "      <th>2</th>\n",
       "      <td>2</td>\n",
       "      <td>5.0</td>\n",
       "      <td>0</td>\n",
       "      <td>0</td>\n",
       "      <td>Stephanie</td>\n",
       "      <td>2</td>\n",
       "      <td>1</td>\n",
       "      <td>8mM-nqxjg6pT04kwcjMbsw</td>\n",
       "    </tr>\n",
       "    <tr>\n",
       "      <th>3</th>\n",
       "      <td>3</td>\n",
       "      <td>5.0</td>\n",
       "      <td>0</td>\n",
       "      <td>0</td>\n",
       "      <td>T</td>\n",
       "      <td>2</td>\n",
       "      <td>2</td>\n",
       "      <td>Ch6CdTR2IVaVANr-RglMOg</td>\n",
       "    </tr>\n",
       "    <tr>\n",
       "      <th>4</th>\n",
       "      <td>4</td>\n",
       "      <td>1.0</td>\n",
       "      <td>0</td>\n",
       "      <td>0</td>\n",
       "      <td>Beth</td>\n",
       "      <td>1</td>\n",
       "      <td>0</td>\n",
       "      <td>NZrLmHRyiHmyT1JrfzkCOA</td>\n",
       "    </tr>\n",
       "  </tbody>\n",
       "</table>\n",
       "</div>"
      ],
      "text/plain": [
       "   Unnamed: 0  reviewer_average_stars  reviewer_cool  reviewer_funny  \\\n",
       "0           0                     5.0              0               0   \n",
       "1           1                     1.0              0               0   \n",
       "2           2                     5.0              0               0   \n",
       "3           3                     5.0              0               0   \n",
       "4           4                     1.0              0               0   \n",
       "\n",
       "  reviewer_name  reviewer_review_count  reviewer_useful  \\\n",
       "0           Jim                      6                7   \n",
       "1         Kelle                      2                1   \n",
       "2     Stephanie                      2                1   \n",
       "3             T                      2                2   \n",
       "4          Beth                      1                0   \n",
       "\n",
       "                  user_id  \n",
       "0  CR2y7yEm4X035ZMzrTtN9Q  \n",
       "1  _9GXoHhdxc30ujPaQwh6Ew  \n",
       "2  8mM-nqxjg6pT04kwcjMbsw  \n",
       "3  Ch6CdTR2IVaVANr-RglMOg  \n",
       "4  NZrLmHRyiHmyT1JrfzkCOA  "
      ]
     },
     "execution_count": 22,
     "metadata": {},
     "output_type": "execute_result"
    }
   ],
   "source": [
    "user.head()"
   ]
  },
  {
   "cell_type": "code",
   "execution_count": 23,
   "id": "ad3c0e0d",
   "metadata": {},
   "outputs": [
    {
     "data": {
      "text/plain": [
       "Index(['Unnamed: 0', 'reviewer_average_stars', 'reviewer_cool',\n",
       "       'reviewer_funny', 'reviewer_name', 'reviewer_review_count',\n",
       "       'reviewer_useful', 'user_id'],\n",
       "      dtype='object')"
      ]
     },
     "execution_count": 23,
     "metadata": {},
     "output_type": "execute_result"
    }
   ],
   "source": [
    "user.columns"
   ]
  },
  {
   "cell_type": "code",
   "execution_count": 24,
   "id": "68268d6d",
   "metadata": {},
   "outputs": [],
   "source": [
    "user.drop(columns = ['Unnamed: 0', 'reviewer_cool', 'reviewer_funny'] , axis = 1 , inplace = True)"
   ]
  },
  {
   "cell_type": "code",
   "execution_count": 25,
   "id": "0998dce5",
   "metadata": {},
   "outputs": [
    {
     "data": {
      "text/plain": [
       "Index(['reviewer_average_stars', 'reviewer_name', 'reviewer_review_count',\n",
       "       'reviewer_useful', 'user_id'],\n",
       "      dtype='object')"
      ]
     },
     "execution_count": 25,
     "metadata": {},
     "output_type": "execute_result"
    }
   ],
   "source": [
    "user.columns"
   ]
  },
  {
   "cell_type": "code",
   "execution_count": 26,
   "id": "1c3106dc",
   "metadata": {},
   "outputs": [],
   "source": [
    "user = user.reindex(columns = ['user_id', 'reviewer_name', 'reviewer_review_count', 'since', 'reviewer_useful', 'fans', 'reviewer_average_stars'])"
   ]
  },
  {
   "cell_type": "code",
   "execution_count": 27,
   "id": "94081395",
   "metadata": {},
   "outputs": [
    {
     "data": {
      "text/html": [
       "<div>\n",
       "<style scoped>\n",
       "    .dataframe tbody tr th:only-of-type {\n",
       "        vertical-align: middle;\n",
       "    }\n",
       "\n",
       "    .dataframe tbody tr th {\n",
       "        vertical-align: top;\n",
       "    }\n",
       "\n",
       "    .dataframe thead th {\n",
       "        text-align: right;\n",
       "    }\n",
       "</style>\n",
       "<table border=\"1\" class=\"dataframe\">\n",
       "  <thead>\n",
       "    <tr style=\"text-align: right;\">\n",
       "      <th></th>\n",
       "      <th>user_id</th>\n",
       "      <th>reviewer_name</th>\n",
       "      <th>reviewer_review_count</th>\n",
       "      <th>since</th>\n",
       "      <th>reviewer_useful</th>\n",
       "      <th>fans</th>\n",
       "      <th>reviewer_average_stars</th>\n",
       "    </tr>\n",
       "  </thead>\n",
       "  <tbody>\n",
       "    <tr>\n",
       "      <th>0</th>\n",
       "      <td>CR2y7yEm4X035ZMzrTtN9Q</td>\n",
       "      <td>Jim</td>\n",
       "      <td>6</td>\n",
       "      <td>NaN</td>\n",
       "      <td>7</td>\n",
       "      <td>NaN</td>\n",
       "      <td>5.0</td>\n",
       "    </tr>\n",
       "    <tr>\n",
       "      <th>1</th>\n",
       "      <td>_9GXoHhdxc30ujPaQwh6Ew</td>\n",
       "      <td>Kelle</td>\n",
       "      <td>2</td>\n",
       "      <td>NaN</td>\n",
       "      <td>1</td>\n",
       "      <td>NaN</td>\n",
       "      <td>1.0</td>\n",
       "    </tr>\n",
       "    <tr>\n",
       "      <th>2</th>\n",
       "      <td>8mM-nqxjg6pT04kwcjMbsw</td>\n",
       "      <td>Stephanie</td>\n",
       "      <td>2</td>\n",
       "      <td>NaN</td>\n",
       "      <td>1</td>\n",
       "      <td>NaN</td>\n",
       "      <td>5.0</td>\n",
       "    </tr>\n",
       "    <tr>\n",
       "      <th>3</th>\n",
       "      <td>Ch6CdTR2IVaVANr-RglMOg</td>\n",
       "      <td>T</td>\n",
       "      <td>2</td>\n",
       "      <td>NaN</td>\n",
       "      <td>2</td>\n",
       "      <td>NaN</td>\n",
       "      <td>5.0</td>\n",
       "    </tr>\n",
       "    <tr>\n",
       "      <th>4</th>\n",
       "      <td>NZrLmHRyiHmyT1JrfzkCOA</td>\n",
       "      <td>Beth</td>\n",
       "      <td>1</td>\n",
       "      <td>NaN</td>\n",
       "      <td>0</td>\n",
       "      <td>NaN</td>\n",
       "      <td>1.0</td>\n",
       "    </tr>\n",
       "  </tbody>\n",
       "</table>\n",
       "</div>"
      ],
      "text/plain": [
       "                  user_id reviewer_name  reviewer_review_count  since  \\\n",
       "0  CR2y7yEm4X035ZMzrTtN9Q           Jim                      6    NaN   \n",
       "1  _9GXoHhdxc30ujPaQwh6Ew         Kelle                      2    NaN   \n",
       "2  8mM-nqxjg6pT04kwcjMbsw     Stephanie                      2    NaN   \n",
       "3  Ch6CdTR2IVaVANr-RglMOg             T                      2    NaN   \n",
       "4  NZrLmHRyiHmyT1JrfzkCOA          Beth                      1    NaN   \n",
       "\n",
       "   reviewer_useful  fans  reviewer_average_stars  \n",
       "0                7   NaN                     5.0  \n",
       "1                1   NaN                     1.0  \n",
       "2                1   NaN                     5.0  \n",
       "3                2   NaN                     5.0  \n",
       "4                0   NaN                     1.0  "
      ]
     },
     "execution_count": 27,
     "metadata": {},
     "output_type": "execute_result"
    }
   ],
   "source": [
    "user.head()"
   ]
  },
  {
   "cell_type": "code",
   "execution_count": 28,
   "id": "f0d749f8",
   "metadata": {},
   "outputs": [
    {
     "data": {
      "text/plain": [
       "Index(['user_id', 'reviewer_name', 'reviewer_review_count', 'since',\n",
       "       'reviewer_useful', 'fans', 'reviewer_average_stars'],\n",
       "      dtype='object')"
      ]
     },
     "execution_count": 28,
     "metadata": {},
     "output_type": "execute_result"
    }
   ],
   "source": [
    "user.columns"
   ]
  },
  {
   "cell_type": "code",
   "execution_count": 29,
   "id": "90bd0389",
   "metadata": {},
   "outputs": [],
   "source": [
    "user.rename(columns = { 'reviewer_name':'name', 'reviewer_review_count':'review_count',\n",
    "       'reviewer_useful':'useful', 'reviewer_average_stars':'average_stars'} , inplace = True)"
   ]
  },
  {
   "cell_type": "code",
   "execution_count": 30,
   "id": "ad450298",
   "metadata": {},
   "outputs": [
    {
     "data": {
      "text/html": [
       "<div>\n",
       "<style scoped>\n",
       "    .dataframe tbody tr th:only-of-type {\n",
       "        vertical-align: middle;\n",
       "    }\n",
       "\n",
       "    .dataframe tbody tr th {\n",
       "        vertical-align: top;\n",
       "    }\n",
       "\n",
       "    .dataframe thead th {\n",
       "        text-align: right;\n",
       "    }\n",
       "</style>\n",
       "<table border=\"1\" class=\"dataframe\">\n",
       "  <thead>\n",
       "    <tr style=\"text-align: right;\">\n",
       "      <th></th>\n",
       "      <th>user_id</th>\n",
       "      <th>name</th>\n",
       "      <th>review_count</th>\n",
       "      <th>since</th>\n",
       "      <th>useful</th>\n",
       "      <th>fans</th>\n",
       "      <th>average_stars</th>\n",
       "    </tr>\n",
       "  </thead>\n",
       "  <tbody>\n",
       "    <tr>\n",
       "      <th>0</th>\n",
       "      <td>CR2y7yEm4X035ZMzrTtN9Q</td>\n",
       "      <td>Jim</td>\n",
       "      <td>6</td>\n",
       "      <td>NaN</td>\n",
       "      <td>7</td>\n",
       "      <td>NaN</td>\n",
       "      <td>5.0</td>\n",
       "    </tr>\n",
       "    <tr>\n",
       "      <th>1</th>\n",
       "      <td>_9GXoHhdxc30ujPaQwh6Ew</td>\n",
       "      <td>Kelle</td>\n",
       "      <td>2</td>\n",
       "      <td>NaN</td>\n",
       "      <td>1</td>\n",
       "      <td>NaN</td>\n",
       "      <td>1.0</td>\n",
       "    </tr>\n",
       "    <tr>\n",
       "      <th>2</th>\n",
       "      <td>8mM-nqxjg6pT04kwcjMbsw</td>\n",
       "      <td>Stephanie</td>\n",
       "      <td>2</td>\n",
       "      <td>NaN</td>\n",
       "      <td>1</td>\n",
       "      <td>NaN</td>\n",
       "      <td>5.0</td>\n",
       "    </tr>\n",
       "    <tr>\n",
       "      <th>3</th>\n",
       "      <td>Ch6CdTR2IVaVANr-RglMOg</td>\n",
       "      <td>T</td>\n",
       "      <td>2</td>\n",
       "      <td>NaN</td>\n",
       "      <td>2</td>\n",
       "      <td>NaN</td>\n",
       "      <td>5.0</td>\n",
       "    </tr>\n",
       "    <tr>\n",
       "      <th>4</th>\n",
       "      <td>NZrLmHRyiHmyT1JrfzkCOA</td>\n",
       "      <td>Beth</td>\n",
       "      <td>1</td>\n",
       "      <td>NaN</td>\n",
       "      <td>0</td>\n",
       "      <td>NaN</td>\n",
       "      <td>1.0</td>\n",
       "    </tr>\n",
       "  </tbody>\n",
       "</table>\n",
       "</div>"
      ],
      "text/plain": [
       "                  user_id       name  review_count  since  useful  fans  \\\n",
       "0  CR2y7yEm4X035ZMzrTtN9Q        Jim             6    NaN       7   NaN   \n",
       "1  _9GXoHhdxc30ujPaQwh6Ew      Kelle             2    NaN       1   NaN   \n",
       "2  8mM-nqxjg6pT04kwcjMbsw  Stephanie             2    NaN       1   NaN   \n",
       "3  Ch6CdTR2IVaVANr-RglMOg          T             2    NaN       2   NaN   \n",
       "4  NZrLmHRyiHmyT1JrfzkCOA       Beth             1    NaN       0   NaN   \n",
       "\n",
       "   average_stars  \n",
       "0            5.0  \n",
       "1            1.0  \n",
       "2            5.0  \n",
       "3            5.0  \n",
       "4            1.0  "
      ]
     },
     "execution_count": 30,
     "metadata": {},
     "output_type": "execute_result"
    }
   ],
   "source": [
    "user.head()"
   ]
  },
  {
   "cell_type": "code",
   "execution_count": 31,
   "id": "99f6dbc1",
   "metadata": {},
   "outputs": [],
   "source": [
    "user.to_csv(r'D:\\VS-workspace\\test\\dataset\\user.csv' , index = False)"
   ]
  }
 ],
 "metadata": {
  "kernelspec": {
   "display_name": "Python 3",
   "language": "python",
   "name": "python3"
  },
  "language_info": {
   "codemirror_mode": {
    "name": "ipython",
    "version": 3
   },
   "file_extension": ".py",
   "mimetype": "text/x-python",
   "name": "python",
   "nbconvert_exporter": "python",
   "pygments_lexer": "ipython3",
   "version": "3.13.7"
  }
 },
 "nbformat": 4,
 "nbformat_minor": 5
}
